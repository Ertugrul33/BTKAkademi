{
 "cells": [
  {
   "cell_type": "markdown",
   "metadata": {},
   "source": [
    "## 8.14_Araba Fiyatları Analizi"
   ]
  },
  {
   "cell_type": "code",
   "execution_count": 12,
   "metadata": {},
   "outputs": [],
   "source": [
    "import pandas as pd\n",
    "import numpy as np\n",
    "import matplotlib.pyplot as plt\n",
    "import seaborn as sbn"
   ]
  },
  {
   "cell_type": "code",
   "execution_count": 13,
   "metadata": {},
   "outputs": [],
   "source": [
    "dataFrame = pd.read_excel(\"30-TensorFlowArabaAnalizi-Mercedes.xlsx\")"
   ]
  },
  {
   "cell_type": "code",
   "execution_count": 14,
   "metadata": {},
   "outputs": [
    {
     "data": {
      "text/html": [
       "<div>\n",
       "<style scoped>\n",
       "    .dataframe tbody tr th:only-of-type {\n",
       "        vertical-align: middle;\n",
       "    }\n",
       "\n",
       "    .dataframe tbody tr th {\n",
       "        vertical-align: top;\n",
       "    }\n",
       "\n",
       "    .dataframe thead th {\n",
       "        text-align: right;\n",
       "    }\n",
       "</style>\n",
       "<table border=\"1\" class=\"dataframe\">\n",
       "  <thead>\n",
       "    <tr style=\"text-align: right;\">\n",
       "      <th></th>\n",
       "      <th>year</th>\n",
       "      <th>price</th>\n",
       "      <th>transmission</th>\n",
       "      <th>mileage</th>\n",
       "      <th>tax</th>\n",
       "      <th>mpg</th>\n",
       "      <th>engineSize</th>\n",
       "    </tr>\n",
       "  </thead>\n",
       "  <tbody>\n",
       "    <tr>\n",
       "      <th>0</th>\n",
       "      <td>2005</td>\n",
       "      <td>5200</td>\n",
       "      <td>Automatic</td>\n",
       "      <td>63000</td>\n",
       "      <td>325</td>\n",
       "      <td>32.1</td>\n",
       "      <td>1.8</td>\n",
       "    </tr>\n",
       "    <tr>\n",
       "      <th>1</th>\n",
       "      <td>2017</td>\n",
       "      <td>34948</td>\n",
       "      <td>Automatic</td>\n",
       "      <td>27000</td>\n",
       "      <td>20</td>\n",
       "      <td>61.4</td>\n",
       "      <td>2.1</td>\n",
       "    </tr>\n",
       "    <tr>\n",
       "      <th>2</th>\n",
       "      <td>2016</td>\n",
       "      <td>49948</td>\n",
       "      <td>Automatic</td>\n",
       "      <td>6200</td>\n",
       "      <td>555</td>\n",
       "      <td>28.0</td>\n",
       "      <td>5.5</td>\n",
       "    </tr>\n",
       "    <tr>\n",
       "      <th>3</th>\n",
       "      <td>2016</td>\n",
       "      <td>61948</td>\n",
       "      <td>Automatic</td>\n",
       "      <td>16000</td>\n",
       "      <td>325</td>\n",
       "      <td>30.4</td>\n",
       "      <td>4.0</td>\n",
       "    </tr>\n",
       "    <tr>\n",
       "      <th>4</th>\n",
       "      <td>2016</td>\n",
       "      <td>73948</td>\n",
       "      <td>Automatic</td>\n",
       "      <td>4000</td>\n",
       "      <td>325</td>\n",
       "      <td>30.1</td>\n",
       "      <td>4.0</td>\n",
       "    </tr>\n",
       "  </tbody>\n",
       "</table>\n",
       "</div>"
      ],
      "text/plain": [
       "   year  price transmission  mileage  tax   mpg  engineSize\n",
       "0  2005   5200    Automatic    63000  325  32.1         1.8\n",
       "1  2017  34948    Automatic    27000   20  61.4         2.1\n",
       "2  2016  49948    Automatic     6200  555  28.0         5.5\n",
       "3  2016  61948    Automatic    16000  325  30.4         4.0\n",
       "4  2016  73948    Automatic     4000  325  30.1         4.0"
      ]
     },
     "execution_count": 14,
     "metadata": {},
     "output_type": "execute_result"
    }
   ],
   "source": [
    "dataFrame.head()"
   ]
  },
  {
   "cell_type": "code",
   "execution_count": 15,
   "metadata": {},
   "outputs": [],
   "source": [
    "#tax: Vergi\n",
    "#mileage: Ne kadar mil kullandığının bilgisi.\n",
    "#mpg(mile per gallon): 1 mil'de kaç yaktığını gösteren bilgi."
   ]
  },
  {
   "cell_type": "markdown",
   "metadata": {},
   "source": [
    "## 8.15_Veriyi Anlamak"
   ]
  },
  {
   "cell_type": "code",
   "execution_count": 16,
   "metadata": {
    "scrolled": true
   },
   "outputs": [
    {
     "data": {
      "text/html": [
       "<div>\n",
       "<style scoped>\n",
       "    .dataframe tbody tr th:only-of-type {\n",
       "        vertical-align: middle;\n",
       "    }\n",
       "\n",
       "    .dataframe tbody tr th {\n",
       "        vertical-align: top;\n",
       "    }\n",
       "\n",
       "    .dataframe thead th {\n",
       "        text-align: right;\n",
       "    }\n",
       "</style>\n",
       "<table border=\"1\" class=\"dataframe\">\n",
       "  <thead>\n",
       "    <tr style=\"text-align: right;\">\n",
       "      <th></th>\n",
       "      <th>year</th>\n",
       "      <th>price</th>\n",
       "      <th>mileage</th>\n",
       "      <th>tax</th>\n",
       "      <th>mpg</th>\n",
       "      <th>engineSize</th>\n",
       "    </tr>\n",
       "  </thead>\n",
       "  <tbody>\n",
       "    <tr>\n",
       "      <th>count</th>\n",
       "      <td>13119.000000</td>\n",
       "      <td>13119.000000</td>\n",
       "      <td>13119.000000</td>\n",
       "      <td>13119.000000</td>\n",
       "      <td>13119.000000</td>\n",
       "      <td>13119.000000</td>\n",
       "    </tr>\n",
       "    <tr>\n",
       "      <th>mean</th>\n",
       "      <td>2017.296288</td>\n",
       "      <td>24698.596920</td>\n",
       "      <td>21949.559037</td>\n",
       "      <td>129.972178</td>\n",
       "      <td>55.155843</td>\n",
       "      <td>2.071530</td>\n",
       "    </tr>\n",
       "    <tr>\n",
       "      <th>std</th>\n",
       "      <td>2.224709</td>\n",
       "      <td>11842.675542</td>\n",
       "      <td>21176.512267</td>\n",
       "      <td>65.260286</td>\n",
       "      <td>15.220082</td>\n",
       "      <td>0.572426</td>\n",
       "    </tr>\n",
       "    <tr>\n",
       "      <th>min</th>\n",
       "      <td>1970.000000</td>\n",
       "      <td>650.000000</td>\n",
       "      <td>1.000000</td>\n",
       "      <td>0.000000</td>\n",
       "      <td>1.100000</td>\n",
       "      <td>0.000000</td>\n",
       "    </tr>\n",
       "    <tr>\n",
       "      <th>25%</th>\n",
       "      <td>2016.000000</td>\n",
       "      <td>17450.000000</td>\n",
       "      <td>6097.500000</td>\n",
       "      <td>125.000000</td>\n",
       "      <td>45.600000</td>\n",
       "      <td>1.800000</td>\n",
       "    </tr>\n",
       "    <tr>\n",
       "      <th>50%</th>\n",
       "      <td>2018.000000</td>\n",
       "      <td>22480.000000</td>\n",
       "      <td>15189.000000</td>\n",
       "      <td>145.000000</td>\n",
       "      <td>56.500000</td>\n",
       "      <td>2.000000</td>\n",
       "    </tr>\n",
       "    <tr>\n",
       "      <th>75%</th>\n",
       "      <td>2019.000000</td>\n",
       "      <td>28980.000000</td>\n",
       "      <td>31779.500000</td>\n",
       "      <td>145.000000</td>\n",
       "      <td>64.200000</td>\n",
       "      <td>2.100000</td>\n",
       "    </tr>\n",
       "    <tr>\n",
       "      <th>max</th>\n",
       "      <td>2020.000000</td>\n",
       "      <td>159999.000000</td>\n",
       "      <td>259000.000000</td>\n",
       "      <td>580.000000</td>\n",
       "      <td>217.300000</td>\n",
       "      <td>6.200000</td>\n",
       "    </tr>\n",
       "  </tbody>\n",
       "</table>\n",
       "</div>"
      ],
      "text/plain": [
       "               year          price        mileage           tax           mpg  \\\n",
       "count  13119.000000   13119.000000   13119.000000  13119.000000  13119.000000   \n",
       "mean    2017.296288   24698.596920   21949.559037    129.972178     55.155843   \n",
       "std        2.224709   11842.675542   21176.512267     65.260286     15.220082   \n",
       "min     1970.000000     650.000000       1.000000      0.000000      1.100000   \n",
       "25%     2016.000000   17450.000000    6097.500000    125.000000     45.600000   \n",
       "50%     2018.000000   22480.000000   15189.000000    145.000000     56.500000   \n",
       "75%     2019.000000   28980.000000   31779.500000    145.000000     64.200000   \n",
       "max     2020.000000  159999.000000  259000.000000    580.000000    217.300000   \n",
       "\n",
       "         engineSize  \n",
       "count  13119.000000  \n",
       "mean       2.071530  \n",
       "std        0.572426  \n",
       "min        0.000000  \n",
       "25%        1.800000  \n",
       "50%        2.000000  \n",
       "75%        2.100000  \n",
       "max        6.200000  "
      ]
     },
     "execution_count": 16,
     "metadata": {},
     "output_type": "execute_result"
    }
   ],
   "source": [
    "dataFrame.describe()"
   ]
  },
  {
   "cell_type": "code",
   "execution_count": 17,
   "metadata": {},
   "outputs": [
    {
     "data": {
      "text/plain": [
       "year            0\n",
       "price           0\n",
       "transmission    0\n",
       "mileage         0\n",
       "tax             0\n",
       "mpg             0\n",
       "engineSize      0\n",
       "dtype: int64"
      ]
     },
     "execution_count": 17,
     "metadata": {},
     "output_type": "execute_result"
    }
   ],
   "source": [
    "dataFrame.isnull().sum() #Boş veri olup olmadığının okunaklı olarak kontrolü bu şekilde yapılır.\n",
    "\n",
    "#Sadece \"dataFrame.isnull()\" yazıldığında boş olanları True gösterecek şekilde dataFramemimizi ekrana getirir.\n",
    "#Fakat çok fazla veri olduğunda boş veriler tam olarak gözükmeyecek ve okunaklı olmayacaktır.\n",
    "#O yüzden \"dataFrame.isnull().sum()\" komutu kullanılmalıdır.\n",
    "\n",
    "#Boş verinin fazlalığına göre o satır veya sütün çıkartılır veya ortalama bir değer yazılır."
   ]
  },
  {
   "cell_type": "code",
   "execution_count": 18,
   "metadata": {},
   "outputs": [],
   "source": [
    "#Görüldüğü üzere verimizde hiç boş veri yok."
   ]
  },
  {
   "cell_type": "markdown",
   "metadata": {},
   "source": [
    "## 8.16_Grafiksel Analizler"
   ]
  },
  {
   "cell_type": "code",
   "execution_count": 19,
   "metadata": {},
   "outputs": [],
   "source": [
    "#Regresyona geçmeden önce:\n",
    "#Verilerin birbirlerine olan ilişkisini incelememiz ve nasıl dağıldığına dair grafiğini çizdirmemiz gerekiyor ki\n",
    "#bazı kararlar verebilelim."
   ]
  },
  {
   "cell_type": "code",
   "execution_count": 20,
   "metadata": {},
   "outputs": [
    {
     "name": "stderr",
     "output_type": "stream",
     "text": [
      "C:\\Users\\ertug\\anaconda3\\envs\\tf\\lib\\site-packages\\seaborn\\distributions.py:2551: FutureWarning: `distplot` is a deprecated function and will be removed in a future version. Please adapt your code to use either `displot` (a figure-level function with similar flexibility) or `histplot` (an axes-level function for histograms).\n",
      "  warnings.warn(msg, FutureWarning)\n"
     ]
    },
    {
     "data": {
      "text/plain": [
       "<AxesSubplot:xlabel='price', ylabel='Density'>"
      ]
     },
     "execution_count": 20,
     "metadata": {},
     "output_type": "execute_result"
    },
    {
     "data": {
      "image/png": "[encoded data removed]",
      "text/plain": [
       "<Figure size 504x360 with 1 Axes>"
      ]
     },
     "metadata": {
      "needs_background": "light"
     },
     "output_type": "display_data"
    }
   ],
   "source": [
    "plt.figure(figsize=(7,5))\n",
    "sbn.distplot(dataFrame[\"price\"]) #Dağılımını yani nasıl dağıldığını göster demektir.\n",
    "\n",
    "#distplot metodu daha sonraki versiyonlarda silineceği için displot ve histplot metodu kullanın hatasını verdi."
   ]
  },
  {
   "cell_type": "code",
   "execution_count": 21,
   "metadata": {},
   "outputs": [],
   "source": [
    "#Görüldüğü üzere veri normal dağılıma sahip ve veriler daha çok 25000'de toplandığı görülüyor.\n",
    "#Fakat verimizde çok yüksek fiyatlı değerler de var. Bu veriler sıkıntı oluşturabilir.\n",
    "#Çünkü modelimize yeni özellikler verdiğimizde doğru sonuçlar elde edilemeyebilir.\n",
    "\n",
    "#Örneğin modelimize yeni özellikler verildiğinde o özelliklere göre fiyat 75000 olacakken\n",
    "#benzer özelliklerde daha fazla fiyatlı arabalar verimizin içinde olduğundan modelimiz bize yanlış sonuçlar verebilir.\n",
    "#Veya elimizde 10-20 civarında yüksek fiyatlı veriler var diye bazı özellikler verdiğimizde model yüksek fiyatlı sonuçlar\n",
    "#elde edebilir. (sapma olabilir)\n",
    "\n",
    "#Çıkartma işlemi yaptığımızda zaten biz yüksek özellikler verdiğimizde model otomatik olarak fiyatını yükseltecektir.\n",
    "#O yüzden modelimizin doğru çalışması için aykırı değerlerin çıkartılması gerekir ki\n",
    "#modelimiz fiyat ile özellikler arasındaki fonksiyonel ilişkiyi doğru kurabilsin.\n",
    "\n",
    "#Aykırı değerleri çıkarmadığımız zamanki modeli eğittiğimizde modelin oluşturduğu fonksiyonel ilişki ile,\n",
    "#aykırı değerleri çıkardığımız zamanki modeli eğittiğimizde modelin oluşturduğu fonksiyonel ilişki farklı olacağından\n",
    "#daha sonrasında modele bazı özellikler verdiğimizde bize yanlış sonuçlar verebilir.\n",
    "\n",
    "#Özet olarak:\n",
    "#Hassas bir denklem elde edilmek isteniyorsa çıkarma işleminin yapılmasına gerek yoktur.\n",
    "#Ya da her iki durum da denenmeli ve hangisi daha iyi çalışıyorsa o kullanılmalıdır.\n",
    "#Aykırı değerlerin atılması ile model yine de iyi çalışıyorsa atılmasında fayda vardır.\n",
    "\n",
    "#Bu işlem tercih meselesidir."
   ]
  },
  {
   "cell_type": "code",
   "execution_count": 22,
   "metadata": {},
   "outputs": [
    {
     "name": "stderr",
     "output_type": "stream",
     "text": [
      "C:\\Users\\ertug\\anaconda3\\envs\\tf\\lib\\site-packages\\seaborn\\_decorators.py:36: FutureWarning: Pass the following variable as a keyword arg: x. From version 0.12, the only valid positional argument will be `data`, and passing other arguments without an explicit keyword will result in an error or misinterpretation.\n",
      "  warnings.warn(\n"
     ]
    },
    {
     "data": {
      "text/plain": [
       "<AxesSubplot:xlabel='year', ylabel='count'>"
      ]
     },
     "execution_count": 22,
     "metadata": {},
     "output_type": "execute_result"
    },
    {
     "data": {
      "image/png": "[encoded data removed]",
      "text/plain": [
       "<Figure size 432x288 with 1 Axes>"
      ]
     },
     "metadata": {
      "needs_background": "light"
     },
     "output_type": "display_data"
    }
   ],
   "source": [
    "sbn.countplot(dataFrame[\"year\"]) #Hangi yıldan kaç tane olduğunun bilgisini verir."
   ]
  },
  {
   "cell_type": "code",
   "execution_count": 23,
   "metadata": {},
   "outputs": [
    {
     "data": {
      "text/html": [
       "<div>\n",
       "<style scoped>\n",
       "    .dataframe tbody tr th:only-of-type {\n",
       "        vertical-align: middle;\n",
       "    }\n",
       "\n",
       "    .dataframe tbody tr th {\n",
       "        vertical-align: top;\n",
       "    }\n",
       "\n",
       "    .dataframe thead th {\n",
       "        text-align: right;\n",
       "    }\n",
       "</style>\n",
       "<table border=\"1\" class=\"dataframe\">\n",
       "  <thead>\n",
       "    <tr style=\"text-align: right;\">\n",
       "      <th></th>\n",
       "      <th>year</th>\n",
       "      <th>price</th>\n",
       "      <th>mileage</th>\n",
       "      <th>tax</th>\n",
       "      <th>mpg</th>\n",
       "      <th>engineSize</th>\n",
       "    </tr>\n",
       "  </thead>\n",
       "  <tbody>\n",
       "    <tr>\n",
       "      <th>year</th>\n",
       "      <td>1.000000</td>\n",
       "      <td>0.520712</td>\n",
       "      <td>-0.738027</td>\n",
       "      <td>0.012480</td>\n",
       "      <td>-0.094626</td>\n",
       "      <td>-0.142147</td>\n",
       "    </tr>\n",
       "    <tr>\n",
       "      <th>price</th>\n",
       "      <td>0.520712</td>\n",
       "      <td>1.000000</td>\n",
       "      <td>-0.537214</td>\n",
       "      <td>0.268717</td>\n",
       "      <td>-0.438445</td>\n",
       "      <td>0.516126</td>\n",
       "    </tr>\n",
       "    <tr>\n",
       "      <th>mileage</th>\n",
       "      <td>-0.738027</td>\n",
       "      <td>-0.537214</td>\n",
       "      <td>1.000000</td>\n",
       "      <td>-0.160223</td>\n",
       "      <td>0.202850</td>\n",
       "      <td>0.063652</td>\n",
       "    </tr>\n",
       "    <tr>\n",
       "      <th>tax</th>\n",
       "      <td>0.012480</td>\n",
       "      <td>0.268717</td>\n",
       "      <td>-0.160223</td>\n",
       "      <td>1.000000</td>\n",
       "      <td>-0.513742</td>\n",
       "      <td>0.338341</td>\n",
       "    </tr>\n",
       "    <tr>\n",
       "      <th>mpg</th>\n",
       "      <td>-0.094626</td>\n",
       "      <td>-0.438445</td>\n",
       "      <td>0.202850</td>\n",
       "      <td>-0.513742</td>\n",
       "      <td>1.000000</td>\n",
       "      <td>-0.339862</td>\n",
       "    </tr>\n",
       "    <tr>\n",
       "      <th>engineSize</th>\n",
       "      <td>-0.142147</td>\n",
       "      <td>0.516126</td>\n",
       "      <td>0.063652</td>\n",
       "      <td>0.338341</td>\n",
       "      <td>-0.339862</td>\n",
       "      <td>1.000000</td>\n",
       "    </tr>\n",
       "  </tbody>\n",
       "</table>\n",
       "</div>"
      ],
      "text/plain": [
       "                year     price   mileage       tax       mpg  engineSize\n",
       "year        1.000000  0.520712 -0.738027  0.012480 -0.094626   -0.142147\n",
       "price       0.520712  1.000000 -0.537214  0.268717 -0.438445    0.516126\n",
       "mileage    -0.738027 -0.537214  1.000000 -0.160223  0.202850    0.063652\n",
       "tax         0.012480  0.268717 -0.160223  1.000000 -0.513742    0.338341\n",
       "mpg        -0.094626 -0.438445  0.202850 -0.513742  1.000000   -0.339862\n",
       "engineSize -0.142147  0.516126  0.063652  0.338341 -0.339862    1.000000"
      ]
     },
     "execution_count": 23,
     "metadata": {},
     "output_type": "execute_result"
    }
   ],
   "source": [
    "dataFrame.corr() #Değişkenlerin birbirleri arasındaki ilişkiyi gösterir. (korelasyon)"
   ]
  },
  {
   "cell_type": "code",
   "execution_count": 24,
   "metadata": {},
   "outputs": [
    {
     "data": {
      "text/plain": [
       "mileage      -0.537214\n",
       "mpg          -0.438445\n",
       "tax           0.268717\n",
       "engineSize    0.516126\n",
       "year          0.520712\n",
       "price         1.000000\n",
       "Name: price, dtype: float64"
      ]
     },
     "execution_count": 24,
     "metadata": {},
     "output_type": "execute_result"
    }
   ],
   "source": [
    "dataFrame.corr()[\"price\"].sort_values() #Fiyatın diğer değişkenlere göre ilişkisi (sort_values() ile de değerler sıralandı)"
   ]
  },
  {
   "cell_type": "code",
   "execution_count": 25,
   "metadata": {},
   "outputs": [],
   "source": [
    "#Görüldüğü üzere yılın ve motor boyutunun fiyata pozitif yüksek bir ilişkisi vardır.\n",
    "#Yani yıl ve motor boyutu arttığında fiyat artacaktır. (mantıken)\n",
    "\n",
    "#En çok negatif ilişkiye sahip özellik ne kadar mil kullanıldığı bilgisidir.\n",
    "#Kullanılan mil arttıkça fiyat da düşecektir. (mantıken)"
   ]
  },
  {
   "cell_type": "code",
   "execution_count": 26,
   "metadata": {},
   "outputs": [],
   "source": [
    "#Fark edileceği üzere \"transmission\" özelliği hesaplanmadı. Çünkü nicel bir özellik olduğu için hesaplama yapamadı.\n",
    "#Otomatik olanlara 1, manuel olanlara 0 atanarak hesaplama yapılabilir.\n",
    "#Fakat fiyata çok etki etmediği düşünüldüğü için hesaplama yapılmayacak."
   ]
  },
  {
   "cell_type": "markdown",
   "metadata": {},
   "source": [
    "## 8.17_En Yüksek Fiyatlı Arabalar"
   ]
  },
  {
   "cell_type": "code",
   "execution_count": 27,
   "metadata": {
    "scrolled": true
   },
   "outputs": [
    {
     "data": {
      "text/plain": [
       "<AxesSubplot:xlabel='mileage', ylabel='price'>"
      ]
     },
     "execution_count": 27,
     "metadata": {},
     "output_type": "execute_result"
    },
    {
     "data": {
      "image/png": "[encoded data removed]",
      "text/plain": [
       "<Figure size 432x288 with 1 Axes>"
      ]
     },
     "metadata": {
      "needs_background": "light"
     },
     "output_type": "display_data"
    }
   ],
   "source": [
    "sbn.scatterplot(x = \"mileage\", y = \"price\", data = dataFrame)"
   ]
  },
  {
   "cell_type": "code",
   "execution_count": 28,
   "metadata": {},
   "outputs": [
    {
     "data": {
      "text/html": [
       "<div>\n",
       "<style scoped>\n",
       "    .dataframe tbody tr th:only-of-type {\n",
       "        vertical-align: middle;\n",
       "    }\n",
       "\n",
       "    .dataframe tbody tr th {\n",
       "        vertical-align: top;\n",
       "    }\n",
       "\n",
       "    .dataframe thead th {\n",
       "        text-align: right;\n",
       "    }\n",
       "</style>\n",
       "<table border=\"1\" class=\"dataframe\">\n",
       "  <thead>\n",
       "    <tr style=\"text-align: right;\">\n",
       "      <th></th>\n",
       "      <th>year</th>\n",
       "      <th>price</th>\n",
       "      <th>transmission</th>\n",
       "      <th>mileage</th>\n",
       "      <th>tax</th>\n",
       "      <th>mpg</th>\n",
       "      <th>engineSize</th>\n",
       "    </tr>\n",
       "  </thead>\n",
       "  <tbody>\n",
       "    <tr>\n",
       "      <th>6199</th>\n",
       "      <td>2020</td>\n",
       "      <td>159999</td>\n",
       "      <td>Semi-Auto</td>\n",
       "      <td>1350</td>\n",
       "      <td>145</td>\n",
       "      <td>21.4</td>\n",
       "      <td>4.0</td>\n",
       "    </tr>\n",
       "    <tr>\n",
       "      <th>10044</th>\n",
       "      <td>2020</td>\n",
       "      <td>154998</td>\n",
       "      <td>Automatic</td>\n",
       "      <td>3000</td>\n",
       "      <td>150</td>\n",
       "      <td>21.4</td>\n",
       "      <td>4.0</td>\n",
       "    </tr>\n",
       "    <tr>\n",
       "      <th>5</th>\n",
       "      <td>2011</td>\n",
       "      <td>149948</td>\n",
       "      <td>Automatic</td>\n",
       "      <td>3000</td>\n",
       "      <td>570</td>\n",
       "      <td>21.4</td>\n",
       "      <td>6.2</td>\n",
       "    </tr>\n",
       "    <tr>\n",
       "      <th>8737</th>\n",
       "      <td>2019</td>\n",
       "      <td>140319</td>\n",
       "      <td>Semi-Auto</td>\n",
       "      <td>785</td>\n",
       "      <td>150</td>\n",
       "      <td>22.1</td>\n",
       "      <td>4.0</td>\n",
       "    </tr>\n",
       "    <tr>\n",
       "      <th>6386</th>\n",
       "      <td>2018</td>\n",
       "      <td>139995</td>\n",
       "      <td>Semi-Auto</td>\n",
       "      <td>13046</td>\n",
       "      <td>145</td>\n",
       "      <td>21.4</td>\n",
       "      <td>4.0</td>\n",
       "    </tr>\n",
       "    <tr>\n",
       "      <th>8</th>\n",
       "      <td>2019</td>\n",
       "      <td>139948</td>\n",
       "      <td>Automatic</td>\n",
       "      <td>12000</td>\n",
       "      <td>145</td>\n",
       "      <td>21.4</td>\n",
       "      <td>4.0</td>\n",
       "    </tr>\n",
       "    <tr>\n",
       "      <th>9133</th>\n",
       "      <td>2019</td>\n",
       "      <td>139559</td>\n",
       "      <td>Semi-Auto</td>\n",
       "      <td>1000</td>\n",
       "      <td>145</td>\n",
       "      <td>22.1</td>\n",
       "      <td>4.0</td>\n",
       "    </tr>\n",
       "    <tr>\n",
       "      <th>8821</th>\n",
       "      <td>2020</td>\n",
       "      <td>138439</td>\n",
       "      <td>Semi-Auto</td>\n",
       "      <td>1000</td>\n",
       "      <td>145</td>\n",
       "      <td>22.1</td>\n",
       "      <td>4.0</td>\n",
       "    </tr>\n",
       "    <tr>\n",
       "      <th>5902</th>\n",
       "      <td>2018</td>\n",
       "      <td>135771</td>\n",
       "      <td>Semi-Auto</td>\n",
       "      <td>19000</td>\n",
       "      <td>145</td>\n",
       "      <td>21.4</td>\n",
       "      <td>4.0</td>\n",
       "    </tr>\n",
       "    <tr>\n",
       "      <th>7864</th>\n",
       "      <td>2018</td>\n",
       "      <td>135124</td>\n",
       "      <td>Semi-Auto</td>\n",
       "      <td>18234</td>\n",
       "      <td>150</td>\n",
       "      <td>21.4</td>\n",
       "      <td>4.0</td>\n",
       "    </tr>\n",
       "    <tr>\n",
       "      <th>8673</th>\n",
       "      <td>2019</td>\n",
       "      <td>134219</td>\n",
       "      <td>Semi-Auto</td>\n",
       "      <td>1000</td>\n",
       "      <td>145</td>\n",
       "      <td>24.8</td>\n",
       "      <td>4.0</td>\n",
       "    </tr>\n",
       "    <tr>\n",
       "      <th>6210</th>\n",
       "      <td>2019</td>\n",
       "      <td>129990</td>\n",
       "      <td>Automatic</td>\n",
       "      <td>1000</td>\n",
       "      <td>145</td>\n",
       "      <td>24.8</td>\n",
       "      <td>4.0</td>\n",
       "    </tr>\n",
       "    <tr>\n",
       "      <th>4759</th>\n",
       "      <td>2019</td>\n",
       "      <td>126000</td>\n",
       "      <td>Automatic</td>\n",
       "      <td>250</td>\n",
       "      <td>145</td>\n",
       "      <td>24.6</td>\n",
       "      <td>4.0</td>\n",
       "    </tr>\n",
       "    <tr>\n",
       "      <th>2647</th>\n",
       "      <td>2019</td>\n",
       "      <td>125796</td>\n",
       "      <td>Automatic</td>\n",
       "      <td>637</td>\n",
       "      <td>145</td>\n",
       "      <td>24.8</td>\n",
       "      <td>4.0</td>\n",
       "    </tr>\n",
       "    <tr>\n",
       "      <th>6223</th>\n",
       "      <td>2019</td>\n",
       "      <td>124999</td>\n",
       "      <td>Automatic</td>\n",
       "      <td>1500</td>\n",
       "      <td>145</td>\n",
       "      <td>31.7</td>\n",
       "      <td>4.0</td>\n",
       "    </tr>\n",
       "    <tr>\n",
       "      <th>4094</th>\n",
       "      <td>2019</td>\n",
       "      <td>124366</td>\n",
       "      <td>Semi-Auto</td>\n",
       "      <td>880</td>\n",
       "      <td>145</td>\n",
       "      <td>24.8</td>\n",
       "      <td>4.0</td>\n",
       "    </tr>\n",
       "    <tr>\n",
       "      <th>2629</th>\n",
       "      <td>2019</td>\n",
       "      <td>123846</td>\n",
       "      <td>Semi-Auto</td>\n",
       "      <td>2951</td>\n",
       "      <td>145</td>\n",
       "      <td>22.1</td>\n",
       "      <td>4.0</td>\n",
       "    </tr>\n",
       "    <tr>\n",
       "      <th>7134</th>\n",
       "      <td>2019</td>\n",
       "      <td>115359</td>\n",
       "      <td>Semi-Auto</td>\n",
       "      <td>1000</td>\n",
       "      <td>145</td>\n",
       "      <td>30.1</td>\n",
       "      <td>4.0</td>\n",
       "    </tr>\n",
       "    <tr>\n",
       "      <th>9159</th>\n",
       "      <td>2019</td>\n",
       "      <td>114199</td>\n",
       "      <td>Semi-Auto</td>\n",
       "      <td>891</td>\n",
       "      <td>145</td>\n",
       "      <td>22.6</td>\n",
       "      <td>4.0</td>\n",
       "    </tr>\n",
       "    <tr>\n",
       "      <th>1980</th>\n",
       "      <td>2019</td>\n",
       "      <td>109995</td>\n",
       "      <td>Semi-Auto</td>\n",
       "      <td>4688</td>\n",
       "      <td>150</td>\n",
       "      <td>31.7</td>\n",
       "      <td>4.0</td>\n",
       "    </tr>\n",
       "  </tbody>\n",
       "</table>\n",
       "</div>"
      ],
      "text/plain": [
       "       year   price transmission  mileage  tax   mpg  engineSize\n",
       "6199   2020  159999    Semi-Auto     1350  145  21.4         4.0\n",
       "10044  2020  154998    Automatic     3000  150  21.4         4.0\n",
       "5      2011  149948    Automatic     3000  570  21.4         6.2\n",
       "8737   2019  140319    Semi-Auto      785  150  22.1         4.0\n",
       "6386   2018  139995    Semi-Auto    13046  145  21.4         4.0\n",
       "8      2019  139948    Automatic    12000  145  21.4         4.0\n",
       "9133   2019  139559    Semi-Auto     1000  145  22.1         4.0\n",
       "8821   2020  138439    Semi-Auto     1000  145  22.1         4.0\n",
       "5902   2018  135771    Semi-Auto    19000  145  21.4         4.0\n",
       "7864   2018  135124    Semi-Auto    18234  150  21.4         4.0\n",
       "8673   2019  134219    Semi-Auto     1000  145  24.8         4.0\n",
       "6210   2019  129990    Automatic     1000  145  24.8         4.0\n",
       "4759   2019  126000    Automatic      250  145  24.6         4.0\n",
       "2647   2019  125796    Automatic      637  145  24.8         4.0\n",
       "6223   2019  124999    Automatic     1500  145  31.7         4.0\n",
       "4094   2019  124366    Semi-Auto      880  145  24.8         4.0\n",
       "2629   2019  123846    Semi-Auto     2951  145  22.1         4.0\n",
       "7134   2019  115359    Semi-Auto     1000  145  30.1         4.0\n",
       "9159   2019  114199    Semi-Auto      891  145  22.6         4.0\n",
       "1980   2019  109995    Semi-Auto     4688  150  31.7         4.0"
      ]
     },
     "execution_count": 28,
     "metadata": {},
     "output_type": "execute_result"
    }
   ],
   "source": [
    "dataFrame.sort_values(\"price\", ascending = False).head(20)\n",
    "\n",
    "#ascending, yazılan değerin artarak gösterip göstermeyeceğinin sorusunu sorar.\n",
    "#False dediğimiz için artan değil de azalan bir tablo getirsin istedik. (fiyat olarak)"
   ]
  },
  {
   "cell_type": "code",
   "execution_count": 29,
   "metadata": {},
   "outputs": [
    {
     "data": {
      "text/html": [
       "<div>\n",
       "<style scoped>\n",
       "    .dataframe tbody tr th:only-of-type {\n",
       "        vertical-align: middle;\n",
       "    }\n",
       "\n",
       "    .dataframe tbody tr th {\n",
       "        vertical-align: top;\n",
       "    }\n",
       "\n",
       "    .dataframe thead th {\n",
       "        text-align: right;\n",
       "    }\n",
       "</style>\n",
       "<table border=\"1\" class=\"dataframe\">\n",
       "  <thead>\n",
       "    <tr style=\"text-align: right;\">\n",
       "      <th></th>\n",
       "      <th>year</th>\n",
       "      <th>price</th>\n",
       "      <th>transmission</th>\n",
       "      <th>mileage</th>\n",
       "      <th>tax</th>\n",
       "      <th>mpg</th>\n",
       "      <th>engineSize</th>\n",
       "    </tr>\n",
       "  </thead>\n",
       "  <tbody>\n",
       "    <tr>\n",
       "      <th>11816</th>\n",
       "      <td>2003</td>\n",
       "      <td>650</td>\n",
       "      <td>Manual</td>\n",
       "      <td>109090</td>\n",
       "      <td>235</td>\n",
       "      <td>40.0</td>\n",
       "      <td>1.4</td>\n",
       "    </tr>\n",
       "    <tr>\n",
       "      <th>12008</th>\n",
       "      <td>2010</td>\n",
       "      <td>1350</td>\n",
       "      <td>Manual</td>\n",
       "      <td>116126</td>\n",
       "      <td>145</td>\n",
       "      <td>54.3</td>\n",
       "      <td>2.0</td>\n",
       "    </tr>\n",
       "    <tr>\n",
       "      <th>11765</th>\n",
       "      <td>2000</td>\n",
       "      <td>1490</td>\n",
       "      <td>Automatic</td>\n",
       "      <td>87000</td>\n",
       "      <td>265</td>\n",
       "      <td>27.2</td>\n",
       "      <td>3.2</td>\n",
       "    </tr>\n",
       "    <tr>\n",
       "      <th>11549</th>\n",
       "      <td>2002</td>\n",
       "      <td>1495</td>\n",
       "      <td>Automatic</td>\n",
       "      <td>13800</td>\n",
       "      <td>305</td>\n",
       "      <td>39.8</td>\n",
       "      <td>2.7</td>\n",
       "    </tr>\n",
       "    <tr>\n",
       "      <th>12594</th>\n",
       "      <td>2004</td>\n",
       "      <td>1495</td>\n",
       "      <td>Manual</td>\n",
       "      <td>119000</td>\n",
       "      <td>300</td>\n",
       "      <td>34.5</td>\n",
       "      <td>1.8</td>\n",
       "    </tr>\n",
       "    <tr>\n",
       "      <th>11174</th>\n",
       "      <td>2001</td>\n",
       "      <td>1695</td>\n",
       "      <td>Automatic</td>\n",
       "      <td>108800</td>\n",
       "      <td>325</td>\n",
       "      <td>31.7</td>\n",
       "      <td>3.2</td>\n",
       "    </tr>\n",
       "    <tr>\n",
       "      <th>12710</th>\n",
       "      <td>2006</td>\n",
       "      <td>1695</td>\n",
       "      <td>Automatic</td>\n",
       "      <td>153000</td>\n",
       "      <td>300</td>\n",
       "      <td>33.6</td>\n",
       "      <td>1.8</td>\n",
       "    </tr>\n",
       "    <tr>\n",
       "      <th>12766</th>\n",
       "      <td>2004</td>\n",
       "      <td>1780</td>\n",
       "      <td>Automatic</td>\n",
       "      <td>118000</td>\n",
       "      <td>265</td>\n",
       "      <td>41.5</td>\n",
       "      <td>2.2</td>\n",
       "    </tr>\n",
       "    <tr>\n",
       "      <th>12009</th>\n",
       "      <td>2007</td>\n",
       "      <td>1800</td>\n",
       "      <td>Automatic</td>\n",
       "      <td>84000</td>\n",
       "      <td>200</td>\n",
       "      <td>42.8</td>\n",
       "      <td>1.5</td>\n",
       "    </tr>\n",
       "    <tr>\n",
       "      <th>11764</th>\n",
       "      <td>1998</td>\n",
       "      <td>1990</td>\n",
       "      <td>Automatic</td>\n",
       "      <td>99300</td>\n",
       "      <td>265</td>\n",
       "      <td>32.1</td>\n",
       "      <td>2.3</td>\n",
       "    </tr>\n",
       "    <tr>\n",
       "      <th>11808</th>\n",
       "      <td>1998</td>\n",
       "      <td>1990</td>\n",
       "      <td>Automatic</td>\n",
       "      <td>113557</td>\n",
       "      <td>265</td>\n",
       "      <td>32.1</td>\n",
       "      <td>2.3</td>\n",
       "    </tr>\n",
       "    <tr>\n",
       "      <th>11383</th>\n",
       "      <td>2005</td>\n",
       "      <td>1995</td>\n",
       "      <td>Automatic</td>\n",
       "      <td>105000</td>\n",
       "      <td>260</td>\n",
       "      <td>43.5</td>\n",
       "      <td>2.1</td>\n",
       "    </tr>\n",
       "    <tr>\n",
       "      <th>11378</th>\n",
       "      <td>2004</td>\n",
       "      <td>1995</td>\n",
       "      <td>Semi-Auto</td>\n",
       "      <td>165000</td>\n",
       "      <td>330</td>\n",
       "      <td>20.0</td>\n",
       "      <td>3.7</td>\n",
       "    </tr>\n",
       "    <tr>\n",
       "      <th>11857</th>\n",
       "      <td>2002</td>\n",
       "      <td>2140</td>\n",
       "      <td>Automatic</td>\n",
       "      <td>52700</td>\n",
       "      <td>325</td>\n",
       "      <td>31.4</td>\n",
       "      <td>2.0</td>\n",
       "    </tr>\n",
       "    <tr>\n",
       "      <th>11906</th>\n",
       "      <td>2007</td>\n",
       "      <td>2478</td>\n",
       "      <td>Automatic</td>\n",
       "      <td>81000</td>\n",
       "      <td>160</td>\n",
       "      <td>49.6</td>\n",
       "      <td>2.0</td>\n",
       "    </tr>\n",
       "    <tr>\n",
       "      <th>11795</th>\n",
       "      <td>2005</td>\n",
       "      <td>2490</td>\n",
       "      <td>Automatic</td>\n",
       "      <td>101980</td>\n",
       "      <td>200</td>\n",
       "      <td>47.9</td>\n",
       "      <td>2.0</td>\n",
       "    </tr>\n",
       "    <tr>\n",
       "      <th>12765</th>\n",
       "      <td>2004</td>\n",
       "      <td>2495</td>\n",
       "      <td>Automatic</td>\n",
       "      <td>104000</td>\n",
       "      <td>325</td>\n",
       "      <td>31.7</td>\n",
       "      <td>1.8</td>\n",
       "    </tr>\n",
       "    <tr>\n",
       "      <th>11943</th>\n",
       "      <td>2005</td>\n",
       "      <td>2690</td>\n",
       "      <td>Automatic</td>\n",
       "      <td>109000</td>\n",
       "      <td>325</td>\n",
       "      <td>32.1</td>\n",
       "      <td>1.8</td>\n",
       "    </tr>\n",
       "    <tr>\n",
       "      <th>11263</th>\n",
       "      <td>2007</td>\n",
       "      <td>2795</td>\n",
       "      <td>Manual</td>\n",
       "      <td>79485</td>\n",
       "      <td>200</td>\n",
       "      <td>45.6</td>\n",
       "      <td>1.5</td>\n",
       "    </tr>\n",
       "    <tr>\n",
       "      <th>49</th>\n",
       "      <td>2006</td>\n",
       "      <td>2880</td>\n",
       "      <td>Automatic</td>\n",
       "      <td>66000</td>\n",
       "      <td>160</td>\n",
       "      <td>52.3</td>\n",
       "      <td>2.0</td>\n",
       "    </tr>\n",
       "  </tbody>\n",
       "</table>\n",
       "</div>"
      ],
      "text/plain": [
       "       year  price transmission  mileage  tax   mpg  engineSize\n",
       "11816  2003    650       Manual   109090  235  40.0         1.4\n",
       "12008  2010   1350       Manual   116126  145  54.3         2.0\n",
       "11765  2000   1490    Automatic    87000  265  27.2         3.2\n",
       "11549  2002   1495    Automatic    13800  305  39.8         2.7\n",
       "12594  2004   1495       Manual   119000  300  34.5         1.8\n",
       "11174  2001   1695    Automatic   108800  325  31.7         3.2\n",
       "12710  2006   1695    Automatic   153000  300  33.6         1.8\n",
       "12766  2004   1780    Automatic   118000  265  41.5         2.2\n",
       "12009  2007   1800    Automatic    84000  200  42.8         1.5\n",
       "11764  1998   1990    Automatic    99300  265  32.1         2.3\n",
       "11808  1998   1990    Automatic   113557  265  32.1         2.3\n",
       "11383  2005   1995    Automatic   105000  260  43.5         2.1\n",
       "11378  2004   1995    Semi-Auto   165000  330  20.0         3.7\n",
       "11857  2002   2140    Automatic    52700  325  31.4         2.0\n",
       "11906  2007   2478    Automatic    81000  160  49.6         2.0\n",
       "11795  2005   2490    Automatic   101980  200  47.9         2.0\n",
       "12765  2004   2495    Automatic   104000  325  31.7         1.8\n",
       "11943  2005   2690    Automatic   109000  325  32.1         1.8\n",
       "11263  2007   2795       Manual    79485  200  45.6         1.5\n",
       "49     2006   2880    Automatic    66000  160  52.3         2.0"
      ]
     },
     "execution_count": 29,
     "metadata": {},
     "output_type": "execute_result"
    }
   ],
   "source": [
    "dataFrame.sort_values(\"price\", ascending = True).head(20)"
   ]
  },
  {
   "cell_type": "code",
   "execution_count": 30,
   "metadata": {},
   "outputs": [],
   "source": [
    "#Düşük fiyatlıları değil de yüksek fiyatları veriden çıkarmamızın sebebi grafiğe bakarak bunu anlamamızdır.\n",
    "#Yüksek fiyatlı arabalar daha az olduğu için onlar çıkarılmalıdır.\n",
    "#Unutulmamalıdır ki çıkarma işlemi tamamen tercih meselesidir.\n",
    "#Her ikisi de gösterilecektir, fakat bu adımda çıkarma işlemi yapılacaktır."
   ]
  },
  {
   "cell_type": "code",
   "execution_count": 31,
   "metadata": {},
   "outputs": [
    {
     "data": {
      "text/plain": [
       "13119"
      ]
     },
     "execution_count": 31,
     "metadata": {},
     "output_type": "execute_result"
    }
   ],
   "source": [
    "len(dataFrame)"
   ]
  },
  {
   "cell_type": "code",
   "execution_count": 32,
   "metadata": {},
   "outputs": [
    {
     "data": {
      "text/plain": [
       "131.19"
      ]
     },
     "execution_count": 32,
     "metadata": {},
     "output_type": "execute_result"
    }
   ],
   "source": [
    "len(dataFrame) * 0.01"
   ]
  },
  {
   "cell_type": "code",
   "execution_count": 33,
   "metadata": {},
   "outputs": [],
   "source": [
    "#Bir verinin %99'u alındığında yüksek ihtimalle o verinin yansıttığı genel tabloyu bozmadan işlemlere devam edilebilir.\n",
    "#Hesaplandığına göre 131 tane yüksek fiyatlı veri çıkartıldığında verinin genel yapısı bozulmamış olur."
   ]
  },
  {
   "cell_type": "markdown",
   "metadata": {},
   "source": [
    "## 8.18_Veri Temizliği"
   ]
  },
  {
   "cell_type": "code",
   "execution_count": 34,
   "metadata": {},
   "outputs": [],
   "source": [
    "yuzdeDoksanDokuzDf = dataFrame.sort_values(\"price\", ascending = False).iloc[131:]\n",
    "\n",
    "#131. satırdan sonrası alındı ve değişkene eşitlendi. Böylece en yüksek fiyatlı 131 veri gitmiş oldu."
   ]
  },
  {
   "cell_type": "code",
   "execution_count": 35,
   "metadata": {},
   "outputs": [
    {
     "data": {
      "text/html": [
       "<div>\n",
       "<style scoped>\n",
       "    .dataframe tbody tr th:only-of-type {\n",
       "        vertical-align: middle;\n",
       "    }\n",
       "\n",
       "    .dataframe tbody tr th {\n",
       "        vertical-align: top;\n",
       "    }\n",
       "\n",
       "    .dataframe thead th {\n",
       "        text-align: right;\n",
       "    }\n",
       "</style>\n",
       "<table border=\"1\" class=\"dataframe\">\n",
       "  <thead>\n",
       "    <tr style=\"text-align: right;\">\n",
       "      <th></th>\n",
       "      <th>year</th>\n",
       "      <th>price</th>\n",
       "      <th>mileage</th>\n",
       "      <th>tax</th>\n",
       "      <th>mpg</th>\n",
       "      <th>engineSize</th>\n",
       "    </tr>\n",
       "  </thead>\n",
       "  <tbody>\n",
       "    <tr>\n",
       "      <th>count</th>\n",
       "      <td>12988.000000</td>\n",
       "      <td>12988.000000</td>\n",
       "      <td>12988.000000</td>\n",
       "      <td>12988.000000</td>\n",
       "      <td>12988.000000</td>\n",
       "      <td>12988.000000</td>\n",
       "    </tr>\n",
       "    <tr>\n",
       "      <th>mean</th>\n",
       "      <td>2017.281876</td>\n",
       "      <td>24074.926933</td>\n",
       "      <td>22132.741146</td>\n",
       "      <td>129.689714</td>\n",
       "      <td>55.437142</td>\n",
       "      <td>2.050901</td>\n",
       "    </tr>\n",
       "    <tr>\n",
       "      <th>std</th>\n",
       "      <td>2.228515</td>\n",
       "      <td>9866.224575</td>\n",
       "      <td>21196.776401</td>\n",
       "      <td>65.183076</td>\n",
       "      <td>15.025999</td>\n",
       "      <td>0.532596</td>\n",
       "    </tr>\n",
       "    <tr>\n",
       "      <th>min</th>\n",
       "      <td>1970.000000</td>\n",
       "      <td>650.000000</td>\n",
       "      <td>1.000000</td>\n",
       "      <td>0.000000</td>\n",
       "      <td>1.100000</td>\n",
       "      <td>0.000000</td>\n",
       "    </tr>\n",
       "    <tr>\n",
       "      <th>25%</th>\n",
       "      <td>2016.000000</td>\n",
       "      <td>17357.500000</td>\n",
       "      <td>6322.000000</td>\n",
       "      <td>125.000000</td>\n",
       "      <td>45.600000</td>\n",
       "      <td>1.675000</td>\n",
       "    </tr>\n",
       "    <tr>\n",
       "      <th>50%</th>\n",
       "      <td>2018.000000</td>\n",
       "      <td>22299.000000</td>\n",
       "      <td>15369.500000</td>\n",
       "      <td>145.000000</td>\n",
       "      <td>56.500000</td>\n",
       "      <td>2.000000</td>\n",
       "    </tr>\n",
       "    <tr>\n",
       "      <th>75%</th>\n",
       "      <td>2019.000000</td>\n",
       "      <td>28706.000000</td>\n",
       "      <td>31982.250000</td>\n",
       "      <td>145.000000</td>\n",
       "      <td>64.200000</td>\n",
       "      <td>2.100000</td>\n",
       "    </tr>\n",
       "    <tr>\n",
       "      <th>max</th>\n",
       "      <td>2020.000000</td>\n",
       "      <td>65990.000000</td>\n",
       "      <td>259000.000000</td>\n",
       "      <td>580.000000</td>\n",
       "      <td>217.300000</td>\n",
       "      <td>6.200000</td>\n",
       "    </tr>\n",
       "  </tbody>\n",
       "</table>\n",
       "</div>"
      ],
      "text/plain": [
       "               year         price        mileage           tax           mpg  \\\n",
       "count  12988.000000  12988.000000   12988.000000  12988.000000  12988.000000   \n",
       "mean    2017.281876  24074.926933   22132.741146    129.689714     55.437142   \n",
       "std        2.228515   9866.224575   21196.776401     65.183076     15.025999   \n",
       "min     1970.000000    650.000000       1.000000      0.000000      1.100000   \n",
       "25%     2016.000000  17357.500000    6322.000000    125.000000     45.600000   \n",
       "50%     2018.000000  22299.000000   15369.500000    145.000000     56.500000   \n",
       "75%     2019.000000  28706.000000   31982.250000    145.000000     64.200000   \n",
       "max     2020.000000  65990.000000  259000.000000    580.000000    217.300000   \n",
       "\n",
       "         engineSize  \n",
       "count  12988.000000  \n",
       "mean       2.050901  \n",
       "std        0.532596  \n",
       "min        0.000000  \n",
       "25%        1.675000  \n",
       "50%        2.000000  \n",
       "75%        2.100000  \n",
       "max        6.200000  "
      ]
     },
     "execution_count": 35,
     "metadata": {},
     "output_type": "execute_result"
    }
   ],
   "source": [
    "yuzdeDoksanDokuzDf.describe()"
   ]
  },
  {
   "cell_type": "code",
   "execution_count": 36,
   "metadata": {},
   "outputs": [
    {
     "name": "stderr",
     "output_type": "stream",
     "text": [
      "C:\\Users\\ertug\\anaconda3\\envs\\tf\\lib\\site-packages\\seaborn\\distributions.py:2551: FutureWarning: `distplot` is a deprecated function and will be removed in a future version. Please adapt your code to use either `displot` (a figure-level function with similar flexibility) or `histplot` (an axes-level function for histograms).\n",
      "  warnings.warn(msg, FutureWarning)\n"
     ]
    },
    {
     "data": {
      "text/plain": [
       "<AxesSubplot:xlabel='price', ylabel='Density'>"
      ]
     },
     "execution_count": 36,
     "metadata": {},
     "output_type": "execute_result"
    },
    {
     "data": {
      "image/png": "[encoded data removed]",
      "text/plain": [
       "<Figure size 504x360 with 1 Axes>"
      ]
     },
     "metadata": {
      "needs_background": "light"
     },
     "output_type": "display_data"
    }
   ],
   "source": [
    "plt.figure(figsize = (7,5))\n",
    "sbn.distplot(yuzdeDoksanDokuzDf[\"price\"])"
   ]
  },
  {
   "cell_type": "code",
   "execution_count": 37,
   "metadata": {},
   "outputs": [],
   "source": [
    "#Görüldüğü üzere yüksek fiyatlı veriler atıldığında daha düzgün bir normal dağılım elde edildi."
   ]
  },
  {
   "cell_type": "code",
   "execution_count": 38,
   "metadata": {},
   "outputs": [
    {
     "data": {
      "text/html": [
       "<div>\n",
       "<style scoped>\n",
       "    .dataframe tbody tr th:only-of-type {\n",
       "        vertical-align: middle;\n",
       "    }\n",
       "\n",
       "    .dataframe tbody tr th {\n",
       "        vertical-align: top;\n",
       "    }\n",
       "\n",
       "    .dataframe thead th {\n",
       "        text-align: right;\n",
       "    }\n",
       "</style>\n",
       "<table border=\"1\" class=\"dataframe\">\n",
       "  <thead>\n",
       "    <tr style=\"text-align: right;\">\n",
       "      <th></th>\n",
       "      <th>year</th>\n",
       "      <th>price</th>\n",
       "      <th>mileage</th>\n",
       "      <th>tax</th>\n",
       "      <th>mpg</th>\n",
       "      <th>engineSize</th>\n",
       "    </tr>\n",
       "  </thead>\n",
       "  <tbody>\n",
       "    <tr>\n",
       "      <th>count</th>\n",
       "      <td>13119.000000</td>\n",
       "      <td>13119.000000</td>\n",
       "      <td>13119.000000</td>\n",
       "      <td>13119.000000</td>\n",
       "      <td>13119.000000</td>\n",
       "      <td>13119.000000</td>\n",
       "    </tr>\n",
       "    <tr>\n",
       "      <th>mean</th>\n",
       "      <td>2017.296288</td>\n",
       "      <td>24698.596920</td>\n",
       "      <td>21949.559037</td>\n",
       "      <td>129.972178</td>\n",
       "      <td>55.155843</td>\n",
       "      <td>2.071530</td>\n",
       "    </tr>\n",
       "    <tr>\n",
       "      <th>std</th>\n",
       "      <td>2.224709</td>\n",
       "      <td>11842.675542</td>\n",
       "      <td>21176.512267</td>\n",
       "      <td>65.260286</td>\n",
       "      <td>15.220082</td>\n",
       "      <td>0.572426</td>\n",
       "    </tr>\n",
       "    <tr>\n",
       "      <th>min</th>\n",
       "      <td>1970.000000</td>\n",
       "      <td>650.000000</td>\n",
       "      <td>1.000000</td>\n",
       "      <td>0.000000</td>\n",
       "      <td>1.100000</td>\n",
       "      <td>0.000000</td>\n",
       "    </tr>\n",
       "    <tr>\n",
       "      <th>25%</th>\n",
       "      <td>2016.000000</td>\n",
       "      <td>17450.000000</td>\n",
       "      <td>6097.500000</td>\n",
       "      <td>125.000000</td>\n",
       "      <td>45.600000</td>\n",
       "      <td>1.800000</td>\n",
       "    </tr>\n",
       "    <tr>\n",
       "      <th>50%</th>\n",
       "      <td>2018.000000</td>\n",
       "      <td>22480.000000</td>\n",
       "      <td>15189.000000</td>\n",
       "      <td>145.000000</td>\n",
       "      <td>56.500000</td>\n",
       "      <td>2.000000</td>\n",
       "    </tr>\n",
       "    <tr>\n",
       "      <th>75%</th>\n",
       "      <td>2019.000000</td>\n",
       "      <td>28980.000000</td>\n",
       "      <td>31779.500000</td>\n",
       "      <td>145.000000</td>\n",
       "      <td>64.200000</td>\n",
       "      <td>2.100000</td>\n",
       "    </tr>\n",
       "    <tr>\n",
       "      <th>max</th>\n",
       "      <td>2020.000000</td>\n",
       "      <td>159999.000000</td>\n",
       "      <td>259000.000000</td>\n",
       "      <td>580.000000</td>\n",
       "      <td>217.300000</td>\n",
       "      <td>6.200000</td>\n",
       "    </tr>\n",
       "  </tbody>\n",
       "</table>\n",
       "</div>"
      ],
      "text/plain": [
       "               year          price        mileage           tax           mpg  \\\n",
       "count  13119.000000   13119.000000   13119.000000  13119.000000  13119.000000   \n",
       "mean    2017.296288   24698.596920   21949.559037    129.972178     55.155843   \n",
       "std        2.224709   11842.675542   21176.512267     65.260286     15.220082   \n",
       "min     1970.000000     650.000000       1.000000      0.000000      1.100000   \n",
       "25%     2016.000000   17450.000000    6097.500000    125.000000     45.600000   \n",
       "50%     2018.000000   22480.000000   15189.000000    145.000000     56.500000   \n",
       "75%     2019.000000   28980.000000   31779.500000    145.000000     64.200000   \n",
       "max     2020.000000  159999.000000  259000.000000    580.000000    217.300000   \n",
       "\n",
       "         engineSize  \n",
       "count  13119.000000  \n",
       "mean       2.071530  \n",
       "std        0.572426  \n",
       "min        0.000000  \n",
       "25%        1.800000  \n",
       "50%        2.000000  \n",
       "75%        2.100000  \n",
       "max        6.200000  "
      ]
     },
     "execution_count": 38,
     "metadata": {},
     "output_type": "execute_result"
    }
   ],
   "source": [
    "dataFrame.describe() #Orijinal dataFrame hala duruyor. Onda bir değişiklik yapılmadı."
   ]
  },
  {
   "cell_type": "code",
   "execution_count": 39,
   "metadata": {},
   "outputs": [
    {
     "data": {
      "text/plain": [
       "year\n",
       "1970    24999.000000\n",
       "1997     9995.000000\n",
       "1998     8605.000000\n",
       "1999     5995.000000\n",
       "2000     5743.333333\n",
       "2001     4957.900000\n",
       "2002     5820.444444\n",
       "2003     4878.000000\n",
       "2004     4727.615385\n",
       "2005     4426.111111\n",
       "2006     4036.875000\n",
       "2007     5136.045455\n",
       "2008     6967.437500\n",
       "2009     6166.764706\n",
       "2010     8308.473684\n",
       "2011    12624.894737\n",
       "2012    10845.140351\n",
       "2013    11939.842466\n",
       "2014    14042.936864\n",
       "2015    16731.780020\n",
       "2016    19307.892948\n",
       "2017    21514.307854\n",
       "2018    25720.162918\n",
       "2019    31290.020865\n",
       "2020    35433.282337\n",
       "Name: price, dtype: float64"
      ]
     },
     "execution_count": 39,
     "metadata": {},
     "output_type": "execute_result"
    }
   ],
   "source": [
    "dataFrame.groupby(\"year\").mean()[\"price\"]"
   ]
  },
  {
   "cell_type": "code",
   "execution_count": 40,
   "metadata": {},
   "outputs": [
    {
     "data": {
      "text/plain": [
       "year\n",
       "1970    24999.000000\n",
       "1997     9995.000000\n",
       "1998     8605.000000\n",
       "1999     5995.000000\n",
       "2000     5743.333333\n",
       "2001     4957.900000\n",
       "2002     5820.444444\n",
       "2003     4878.000000\n",
       "2004     4727.615385\n",
       "2005     4426.111111\n",
       "2006     4036.875000\n",
       "2007     5136.045455\n",
       "2008     6967.437500\n",
       "2009     6166.764706\n",
       "2010     8308.473684\n",
       "2011     8913.459459\n",
       "2012    10845.140351\n",
       "2013    11939.842466\n",
       "2014    14042.936864\n",
       "2015    16647.822222\n",
       "2016    19223.558943\n",
       "2017    21356.280421\n",
       "2018    24800.844506\n",
       "2019    30289.524832\n",
       "2020    34234.794872\n",
       "Name: price, dtype: float64"
      ]
     },
     "execution_count": 40,
     "metadata": {},
     "output_type": "execute_result"
    }
   ],
   "source": [
    "yuzdeDoksanDokuzDf.groupby(\"year\").mean()[\"price\"]"
   ]
  },
  {
   "cell_type": "code",
   "execution_count": 41,
   "metadata": {},
   "outputs": [],
   "source": [
    "#Verilere bakıldığında 1970 model arabaların ortalaması (25000) 2018 civarı yıllar ile neredeyse aynı.\n",
    "#Bu veriler de çıkarılabilir fakat tercih meselesidir. Biz çıkarma işlemi yapacağız."
   ]
  },
  {
   "cell_type": "code",
   "execution_count": 42,
   "metadata": {},
   "outputs": [
    {
     "data": {
      "text/plain": [
       "year\n",
       "1997     9995.000000\n",
       "1998     8605.000000\n",
       "1999     5995.000000\n",
       "2000     5743.333333\n",
       "2001     4957.900000\n",
       "2002     5820.444444\n",
       "2003     4878.000000\n",
       "2004     4727.615385\n",
       "2005     4426.111111\n",
       "2006     4036.875000\n",
       "2007     5136.045455\n",
       "2008     6967.437500\n",
       "2009     6166.764706\n",
       "2010     8308.473684\n",
       "2011    12624.894737\n",
       "2012    10845.140351\n",
       "2013    11939.842466\n",
       "2014    14042.936864\n",
       "2015    16731.780020\n",
       "2016    19307.892948\n",
       "2017    21514.307854\n",
       "2018    25720.162918\n",
       "2019    31290.020865\n",
       "2020    35433.282337\n",
       "Name: price, dtype: float64"
      ]
     },
     "execution_count": 42,
     "metadata": {},
     "output_type": "execute_result"
    }
   ],
   "source": [
    "dataFrame[dataFrame.year != 1970].groupby(\"year\").mean()[\"price\"]\n",
    "\n",
    "#Yılı 1970'e eşit olmayan veriler getirildi. Bu şekilde yazılarak ve bir değişkene aktarılarak 1970'li veriler atılabilir.\n",
    "#\"dataFrame.year != 1970\" komutu SQL'de kullanılan bir komuttur, Python bu yazımı destekler."
   ]
  },
  {
   "cell_type": "code",
   "execution_count": 43,
   "metadata": {},
   "outputs": [],
   "source": [
    "dataFrame = yuzdeDoksanDokuzDf #Güncel veriler dataFrame'me eşitlendi."
   ]
  },
  {
   "cell_type": "code",
   "execution_count": 44,
   "metadata": {},
   "outputs": [
    {
     "data": {
      "text/html": [
       "<div>\n",
       "<style scoped>\n",
       "    .dataframe tbody tr th:only-of-type {\n",
       "        vertical-align: middle;\n",
       "    }\n",
       "\n",
       "    .dataframe tbody tr th {\n",
       "        vertical-align: top;\n",
       "    }\n",
       "\n",
       "    .dataframe thead th {\n",
       "        text-align: right;\n",
       "    }\n",
       "</style>\n",
       "<table border=\"1\" class=\"dataframe\">\n",
       "  <thead>\n",
       "    <tr style=\"text-align: right;\">\n",
       "      <th></th>\n",
       "      <th>year</th>\n",
       "      <th>price</th>\n",
       "      <th>mileage</th>\n",
       "      <th>tax</th>\n",
       "      <th>mpg</th>\n",
       "      <th>engineSize</th>\n",
       "    </tr>\n",
       "  </thead>\n",
       "  <tbody>\n",
       "    <tr>\n",
       "      <th>count</th>\n",
       "      <td>12988.000000</td>\n",
       "      <td>12988.000000</td>\n",
       "      <td>12988.000000</td>\n",
       "      <td>12988.000000</td>\n",
       "      <td>12988.000000</td>\n",
       "      <td>12988.000000</td>\n",
       "    </tr>\n",
       "    <tr>\n",
       "      <th>mean</th>\n",
       "      <td>2017.281876</td>\n",
       "      <td>24074.926933</td>\n",
       "      <td>22132.741146</td>\n",
       "      <td>129.689714</td>\n",
       "      <td>55.437142</td>\n",
       "      <td>2.050901</td>\n",
       "    </tr>\n",
       "    <tr>\n",
       "      <th>std</th>\n",
       "      <td>2.228515</td>\n",
       "      <td>9866.224575</td>\n",
       "      <td>21196.776401</td>\n",
       "      <td>65.183076</td>\n",
       "      <td>15.025999</td>\n",
       "      <td>0.532596</td>\n",
       "    </tr>\n",
       "    <tr>\n",
       "      <th>min</th>\n",
       "      <td>1970.000000</td>\n",
       "      <td>650.000000</td>\n",
       "      <td>1.000000</td>\n",
       "      <td>0.000000</td>\n",
       "      <td>1.100000</td>\n",
       "      <td>0.000000</td>\n",
       "    </tr>\n",
       "    <tr>\n",
       "      <th>25%</th>\n",
       "      <td>2016.000000</td>\n",
       "      <td>17357.500000</td>\n",
       "      <td>6322.000000</td>\n",
       "      <td>125.000000</td>\n",
       "      <td>45.600000</td>\n",
       "      <td>1.675000</td>\n",
       "    </tr>\n",
       "    <tr>\n",
       "      <th>50%</th>\n",
       "      <td>2018.000000</td>\n",
       "      <td>22299.000000</td>\n",
       "      <td>15369.500000</td>\n",
       "      <td>145.000000</td>\n",
       "      <td>56.500000</td>\n",
       "      <td>2.000000</td>\n",
       "    </tr>\n",
       "    <tr>\n",
       "      <th>75%</th>\n",
       "      <td>2019.000000</td>\n",
       "      <td>28706.000000</td>\n",
       "      <td>31982.250000</td>\n",
       "      <td>145.000000</td>\n",
       "      <td>64.200000</td>\n",
       "      <td>2.100000</td>\n",
       "    </tr>\n",
       "    <tr>\n",
       "      <th>max</th>\n",
       "      <td>2020.000000</td>\n",
       "      <td>65990.000000</td>\n",
       "      <td>259000.000000</td>\n",
       "      <td>580.000000</td>\n",
       "      <td>217.300000</td>\n",
       "      <td>6.200000</td>\n",
       "    </tr>\n",
       "  </tbody>\n",
       "</table>\n",
       "</div>"
      ],
      "text/plain": [
       "               year         price        mileage           tax           mpg  \\\n",
       "count  12988.000000  12988.000000   12988.000000  12988.000000  12988.000000   \n",
       "mean    2017.281876  24074.926933   22132.741146    129.689714     55.437142   \n",
       "std        2.228515   9866.224575   21196.776401     65.183076     15.025999   \n",
       "min     1970.000000    650.000000       1.000000      0.000000      1.100000   \n",
       "25%     2016.000000  17357.500000    6322.000000    125.000000     45.600000   \n",
       "50%     2018.000000  22299.000000   15369.500000    145.000000     56.500000   \n",
       "75%     2019.000000  28706.000000   31982.250000    145.000000     64.200000   \n",
       "max     2020.000000  65990.000000  259000.000000    580.000000    217.300000   \n",
       "\n",
       "         engineSize  \n",
       "count  12988.000000  \n",
       "mean       2.050901  \n",
       "std        0.532596  \n",
       "min        0.000000  \n",
       "25%        1.675000  \n",
       "50%        2.000000  \n",
       "75%        2.100000  \n",
       "max        6.200000  "
      ]
     },
     "execution_count": 44,
     "metadata": {},
     "output_type": "execute_result"
    }
   ],
   "source": [
    "dataFrame.describe()"
   ]
  },
  {
   "cell_type": "code",
   "execution_count": 45,
   "metadata": {},
   "outputs": [],
   "source": [
    "dataFrame = dataFrame[dataFrame.year != 1970] #1970'li veriler atılıp dataFrame'e eşitlendi."
   ]
  },
  {
   "cell_type": "code",
   "execution_count": 46,
   "metadata": {},
   "outputs": [
    {
     "data": {
      "text/plain": [
       "year\n",
       "1997     9995.000000\n",
       "1998     8605.000000\n",
       "1999     5995.000000\n",
       "2000     5743.333333\n",
       "2001     4957.900000\n",
       "2002     5820.444444\n",
       "2003     4878.000000\n",
       "2004     4727.615385\n",
       "2005     4426.111111\n",
       "2006     4036.875000\n",
       "2007     5136.045455\n",
       "2008     6967.437500\n",
       "2009     6166.764706\n",
       "2010     8308.473684\n",
       "2011     8913.459459\n",
       "2012    10845.140351\n",
       "2013    11939.842466\n",
       "2014    14042.936864\n",
       "2015    16647.822222\n",
       "2016    19223.558943\n",
       "2017    21356.280421\n",
       "2018    24800.844506\n",
       "2019    30289.524832\n",
       "2020    34234.794872\n",
       "Name: price, dtype: float64"
      ]
     },
     "execution_count": 46,
     "metadata": {},
     "output_type": "execute_result"
    }
   ],
   "source": [
    "dataFrame.groupby(\"year\").mean()[\"price\"]"
   ]
  },
  {
   "cell_type": "code",
   "execution_count": 47,
   "metadata": {},
   "outputs": [
    {
     "data": {
      "text/html": [
       "<div>\n",
       "<style scoped>\n",
       "    .dataframe tbody tr th:only-of-type {\n",
       "        vertical-align: middle;\n",
       "    }\n",
       "\n",
       "    .dataframe tbody tr th {\n",
       "        vertical-align: top;\n",
       "    }\n",
       "\n",
       "    .dataframe thead th {\n",
       "        text-align: right;\n",
       "    }\n",
       "</style>\n",
       "<table border=\"1\" class=\"dataframe\">\n",
       "  <thead>\n",
       "    <tr style=\"text-align: right;\">\n",
       "      <th></th>\n",
       "      <th>year</th>\n",
       "      <th>price</th>\n",
       "      <th>transmission</th>\n",
       "      <th>mileage</th>\n",
       "      <th>tax</th>\n",
       "      <th>mpg</th>\n",
       "      <th>engineSize</th>\n",
       "    </tr>\n",
       "  </thead>\n",
       "  <tbody>\n",
       "    <tr>\n",
       "      <th>6177</th>\n",
       "      <td>2019</td>\n",
       "      <td>65990</td>\n",
       "      <td>Semi-Auto</td>\n",
       "      <td>5076</td>\n",
       "      <td>150</td>\n",
       "      <td>30.4</td>\n",
       "      <td>3.0</td>\n",
       "    </tr>\n",
       "    <tr>\n",
       "      <th>5779</th>\n",
       "      <td>2020</td>\n",
       "      <td>65990</td>\n",
       "      <td>Semi-Auto</td>\n",
       "      <td>999</td>\n",
       "      <td>145</td>\n",
       "      <td>28.0</td>\n",
       "      <td>4.0</td>\n",
       "    </tr>\n",
       "    <tr>\n",
       "      <th>3191</th>\n",
       "      <td>2020</td>\n",
       "      <td>65980</td>\n",
       "      <td>Semi-Auto</td>\n",
       "      <td>3999</td>\n",
       "      <td>145</td>\n",
       "      <td>28.0</td>\n",
       "      <td>4.0</td>\n",
       "    </tr>\n",
       "    <tr>\n",
       "      <th>4727</th>\n",
       "      <td>2019</td>\n",
       "      <td>65000</td>\n",
       "      <td>Semi-Auto</td>\n",
       "      <td>3398</td>\n",
       "      <td>145</td>\n",
       "      <td>27.2</td>\n",
       "      <td>4.0</td>\n",
       "    </tr>\n",
       "    <tr>\n",
       "      <th>8814</th>\n",
       "      <td>2019</td>\n",
       "      <td>64999</td>\n",
       "      <td>Semi-Auto</td>\n",
       "      <td>119</td>\n",
       "      <td>145</td>\n",
       "      <td>40.9</td>\n",
       "      <td>3.0</td>\n",
       "    </tr>\n",
       "  </tbody>\n",
       "</table>\n",
       "</div>"
      ],
      "text/plain": [
       "      year  price transmission  mileage  tax   mpg  engineSize\n",
       "6177  2019  65990    Semi-Auto     5076  150  30.4         3.0\n",
       "5779  2020  65990    Semi-Auto      999  145  28.0         4.0\n",
       "3191  2020  65980    Semi-Auto     3999  145  28.0         4.0\n",
       "4727  2019  65000    Semi-Auto     3398  145  27.2         4.0\n",
       "8814  2019  64999    Semi-Auto      119  145  40.9         3.0"
      ]
     },
     "execution_count": 47,
     "metadata": {},
     "output_type": "execute_result"
    }
   ],
   "source": [
    "dataFrame.head()"
   ]
  },
  {
   "cell_type": "code",
   "execution_count": 48,
   "metadata": {},
   "outputs": [],
   "source": [
    "#\"Transmission\" sütunu sayısal bir veri olmadığı için o sütun atılmalıdır.\n",
    "#Atılıp atılmaması yine tercih meselesidir, değer verilerek de işleme koyulabilir. (0,1 gibi)"
   ]
  },
  {
   "cell_type": "code",
   "execution_count": 49,
   "metadata": {},
   "outputs": [],
   "source": [
    "dataFrame = dataFrame.drop(\"transmission\", axis = 1)"
   ]
  },
  {
   "cell_type": "markdown",
   "metadata": {},
   "source": [
    "### Normallik Testleri (Özel Kontrol)"
   ]
  },
  {
   "cell_type": "markdown",
   "metadata": {},
   "source": [
    "#### Not: Derse ait değildir, bana ait olup kontrol amaçlıdır."
   ]
  },
  {
   "cell_type": "code",
   "execution_count": 50,
   "metadata": {},
   "outputs": [],
   "source": [
    "from scipy import stats"
   ]
  },
  {
   "cell_type": "code",
   "execution_count": 51,
   "metadata": {},
   "outputs": [
    {
     "name": "stdout",
     "output_type": "stream",
     "text": [
      "ShapiroResult(statistic=0.9320070743560791, pvalue=0.0)\n"
     ]
    },
    {
     "name": "stderr",
     "output_type": "stream",
     "text": [
      "C:\\Users\\ertug\\anaconda3\\envs\\tf\\lib\\site-packages\\scipy\\stats\\morestats.py:1681: UserWarning: p-value may not be accurate for N > 5000.\n",
      "  warnings.warn(\"p-value may not be accurate for N > 5000.\")\n"
     ]
    }
   ],
   "source": [
    "print (stats.shapiro(dataFrame['price']))"
   ]
  },
  {
   "cell_type": "code",
   "execution_count": 52,
   "metadata": {},
   "outputs": [
    {
     "data": {
      "text/plain": [
       "6177     11.097258\n",
       "5779     11.097258\n",
       "3191     11.097107\n",
       "4727     11.082143\n",
       "8814     11.082127\n",
       "           ...    \n",
       "11549     7.309881\n",
       "12594     7.309881\n",
       "11765     7.306531\n",
       "12008     7.207860\n",
       "11816     6.476972\n",
       "Name: price, Length: 12987, dtype: float64"
      ]
     },
     "execution_count": 52,
     "metadata": {},
     "output_type": "execute_result"
    }
   ],
   "source": [
    "np.log(dataFrame[\"price\"])"
   ]
  },
  {
   "cell_type": "code",
   "execution_count": 53,
   "metadata": {},
   "outputs": [
    {
     "name": "stderr",
     "output_type": "stream",
     "text": [
      "C:\\Users\\ertug\\anaconda3\\envs\\tf\\lib\\site-packages\\seaborn\\distributions.py:2551: FutureWarning: `distplot` is a deprecated function and will be removed in a future version. Please adapt your code to use either `displot` (a figure-level function with similar flexibility) or `histplot` (an axes-level function for histograms).\n",
      "  warnings.warn(msg, FutureWarning)\n"
     ]
    },
    {
     "data": {
      "text/plain": [
       "<AxesSubplot:xlabel='price', ylabel='Density'>"
      ]
     },
     "execution_count": 53,
     "metadata": {},
     "output_type": "execute_result"
    },
    {
     "data": {
      "image/png": "[encoded data removed]",
      "text/plain": [
       "<Figure size 432x288 with 1 Axes>"
      ]
     },
     "metadata": {
      "needs_background": "light"
     },
     "output_type": "display_data"
    }
   ],
   "source": [
    "sbn.distplot(np.log(dataFrame[\"price\"]))"
   ]
  },
  {
   "cell_type": "code",
   "execution_count": 54,
   "metadata": {},
   "outputs": [],
   "source": [
    "from scipy.stats import kstest"
   ]
  },
  {
   "cell_type": "code",
   "execution_count": 55,
   "metadata": {},
   "outputs": [
    {
     "name": "stdout",
     "output_type": "stream",
     "text": [
      "statistic=1.000, p=0.000\n",
      "\n",
      "Normal Değildir.\n"
     ]
    }
   ],
   "source": [
    "statistic, pvalue = kstest(np.log(dataFrame['price']), 'norm')\n",
    "print('statistic=%.3f, p=%.3f\\n' % (statistic, pvalue))\n",
    "\n",
    "if pvalue > 0.05:\n",
    "    print(\"Normaldir.\")\n",
    "else:\n",
    "    print(\"Normal Değildir.\")"
   ]
  },
  {
   "cell_type": "code",
   "execution_count": 56,
   "metadata": {},
   "outputs": [],
   "source": [
    "#Veri temizliği gerçekleşti. Artık bu veri eğitilmek için hazır."
   ]
  },
  {
   "cell_type": "markdown",
   "metadata": {},
   "source": [
    "#### Not: Kontrol buraya kadardır."
   ]
  },
  {
   "cell_type": "markdown",
   "metadata": {},
   "source": [
    "## 8.19_Model Oluşturmak"
   ]
  },
  {
   "cell_type": "code",
   "execution_count": 57,
   "metadata": {},
   "outputs": [],
   "source": [
    "#Adımları hatırlayalım:"
   ]
  },
  {
   "cell_type": "code",
   "execution_count": 58,
   "metadata": {},
   "outputs": [],
   "source": [
    "#Adım 1:\n",
    "\n",
    "#Tahmin edilmek istenen değişken(fiyat) Numpy dizisine dönüştürülüp y'ye atanır.\n",
    "#Özellikler Numpy dizisine dönüştürülüp x'e atanır.\n",
    "\n",
    "y = dataFrame[\"price\"].values\n",
    "x = dataFrame.drop(\"price\", axis = 1).values\n",
    "#Fiyat değişkeni atıldığında geriye kalan değişkenler \"özellikler\" oldu ve x'e atandı.\n",
    "#Fazla özellik olduğunda bu komut işe yarayacaktır."
   ]
  },
  {
   "cell_type": "code",
   "execution_count": 59,
   "metadata": {},
   "outputs": [
    {
     "data": {
      "text/plain": [
       "array([65990, 65990, 65980, ...,  1490,  1350,   650], dtype=int64)"
      ]
     },
     "execution_count": 59,
     "metadata": {},
     "output_type": "execute_result"
    }
   ],
   "source": [
    "y"
   ]
  },
  {
   "cell_type": "code",
   "execution_count": 60,
   "metadata": {},
   "outputs": [
    {
     "data": {
      "text/plain": [
       "array([[2.01900e+03, 5.07600e+03, 1.50000e+02, 3.04000e+01, 3.00000e+00],\n",
       "       [2.02000e+03, 9.99000e+02, 1.45000e+02, 2.80000e+01, 4.00000e+00],\n",
       "       [2.02000e+03, 3.99900e+03, 1.45000e+02, 2.80000e+01, 4.00000e+00],\n",
       "       ...,\n",
       "       [2.00000e+03, 8.70000e+04, 2.65000e+02, 2.72000e+01, 3.20000e+00],\n",
       "       [2.01000e+03, 1.16126e+05, 1.45000e+02, 5.43000e+01, 2.00000e+00],\n",
       "       [2.00300e+03, 1.09090e+05, 2.35000e+02, 4.00000e+01, 1.40000e+00]])"
      ]
     },
     "execution_count": 60,
     "metadata": {},
     "output_type": "execute_result"
    }
   ],
   "source": [
    "x"
   ]
  },
  {
   "cell_type": "code",
   "execution_count": 61,
   "metadata": {},
   "outputs": [],
   "source": [
    "#Adım 2:\n",
    "\n",
    "#Veriler train/test olarak ikiye ayrılır."
   ]
  },
  {
   "cell_type": "code",
   "execution_count": 62,
   "metadata": {},
   "outputs": [],
   "source": [
    "from sklearn.model_selection import train_test_split #Ayırma işlemi için gerekli kütüphane import edilir."
   ]
  },
  {
   "cell_type": "code",
   "execution_count": 63,
   "metadata": {},
   "outputs": [],
   "source": [
    "x_train, x_test, y_train, y_test = train_test_split(x, y, test_size=0.3, random_state=10)\n",
    "\n",
    "#Yüzde kaçının teste ayrılacağı belirlenir.\n",
    "#Aynı bölünmüş veriler kullanılmak istendiğinde random_state sayısı karar verilir ve ona atanır. (tercih meselesidir)"
   ]
  },
  {
   "cell_type": "code",
   "execution_count": 64,
   "metadata": {},
   "outputs": [
    {
     "data": {
      "text/plain": [
       "9090"
      ]
     },
     "execution_count": 64,
     "metadata": {},
     "output_type": "execute_result"
    }
   ],
   "source": [
    "len(x_train) #Ne kadar sayıda ayrıldığının kontrolü yapılabilir."
   ]
  },
  {
   "cell_type": "code",
   "execution_count": 65,
   "metadata": {},
   "outputs": [
    {
     "data": {
      "text/plain": [
       "3897"
      ]
     },
     "execution_count": 65,
     "metadata": {},
     "output_type": "execute_result"
    }
   ],
   "source": [
    "len(x_test) #Ne kadar sayıda ayrıldığının kontrolü yapılabilir."
   ]
  },
  {
   "cell_type": "code",
   "execution_count": 66,
   "metadata": {},
   "outputs": [],
   "source": [
    "#Adım: 3\n",
    "\n",
    "#x'lere (özelliklere) scaling(ölçeklendirme) işlemi yapılır. (bu işlem için normalize işlemi yapılır -> 0-1 aralığına)"
   ]
  },
  {
   "cell_type": "code",
   "execution_count": 67,
   "metadata": {},
   "outputs": [],
   "source": [
    "from sklearn.preprocessing import MinMaxScaler #Scaling işlemi için gerekli kütüphane import edilir."
   ]
  },
  {
   "cell_type": "code",
   "execution_count": 68,
   "metadata": {},
   "outputs": [],
   "source": [
    "scaler = MinMaxScaler()"
   ]
  },
  {
   "cell_type": "code",
   "execution_count": 69,
   "metadata": {},
   "outputs": [],
   "source": [
    "x_train = scaler.fit_transform(x_train)"
   ]
  },
  {
   "cell_type": "code",
   "execution_count": 70,
   "metadata": {},
   "outputs": [
    {
     "data": {
      "text/plain": [
       "array([[0.82608696, 0.07228985, 0.03448276, 0.30619796, 0.33870968],\n",
       "       [0.86956522, 0.22407036, 0.25      , 0.27890842, 0.32258065],\n",
       "       [0.82608696, 0.11663365, 0.05172414, 0.29879741, 0.32258065],\n",
       "       ...,\n",
       "       [0.65217391, 0.25115541, 0.21551724, 0.27890842, 0.29032258],\n",
       "       [0.73913043, 0.11981513, 0.34482759, 0.18408881, 0.32258065],\n",
       "       [0.86956522, 0.06027436, 0.40517241, 0.20212766, 0.35483871]])"
      ]
     },
     "execution_count": 70,
     "metadata": {},
     "output_type": "execute_result"
    }
   ],
   "source": [
    "x_train"
   ]
  },
  {
   "cell_type": "code",
   "execution_count": 71,
   "metadata": {},
   "outputs": [],
   "source": [
    "x_test = scaler.transform(x_test)"
   ]
  },
  {
   "cell_type": "code",
   "execution_count": 72,
   "metadata": {},
   "outputs": [
    {
     "data": {
      "text/plain": [
       "array([[0.82608696, 0.03091518, 0.03448276, 0.30619796, 0.33870968],\n",
       "       [0.82608696, 0.02683408, 0.34482759, 0.19287697, 0.32258065],\n",
       "       [1.        , 0.01605026, 0.25      , 0.29879741, 0.24193548],\n",
       "       ...,\n",
       "       [0.95652174, 0.03815459, 0.25      , 0.27890842, 0.32258065],\n",
       "       [0.82608696, 0.32833718, 0.        , 0.56290472, 0.32258065],\n",
       "       [0.95652174, 0.018502  , 0.25      , 0.26734505, 0.25806452]])"
      ]
     },
     "execution_count": 72,
     "metadata": {},
     "output_type": "execute_result"
    }
   ],
   "source": [
    "x_test"
   ]
  },
  {
   "cell_type": "code",
   "execution_count": 73,
   "metadata": {},
   "outputs": [],
   "source": [
    "#Adım 4:\n",
    "\n",
    "#Model ve katmanlar oluşturulur."
   ]
  },
  {
   "cell_type": "code",
   "execution_count": 74,
   "metadata": {},
   "outputs": [],
   "source": [
    "from tensorflow.keras.models import Sequential #Model oluşturmak için gerekli kütüphane import edilir.\n",
    "from tensorflow.keras.layers import Dense #Katman oluşturmak için gerekli kütüphane import edilir.\n",
    "\n",
    "#Dense: Nöronların, outputların birbirine bağlı olduğu katman çeşidi.\n",
    "#Sequential: Model oluşturma sınıfı."
   ]
  },
  {
   "cell_type": "code",
   "execution_count": 75,
   "metadata": {},
   "outputs": [
    {
     "data": {
      "text/plain": [
       "(9090, 5)"
      ]
     },
     "execution_count": 75,
     "metadata": {},
     "output_type": "execute_result"
    }
   ],
   "source": [
    "x_train.shape"
   ]
  },
  {
   "cell_type": "code",
   "execution_count": 76,
   "metadata": {},
   "outputs": [],
   "source": [
    "#5 tane özellik olduğuna göre ilk katmanda da 5 tane nöron olması mantıklı olacaktır.\n",
    "#Tahmin:\n",
    "#Çünkü bir nöron bir özelliği alıp fiyata göre fonksiyonel ilişki(model) kurması gerekiyor. Bu da 5 nörona eşit olur.\n",
    "\n",
    "#Tabi ki doğru sonuç vermediğinde nöron sayısı da arttırılabilir.\n",
    "#Burada 12 nöron tercih edildi. (eğitmen daha öncesinde 5 nöron koyduğunda pek iyi sonuç alamadığı için 12 nöron denenecek)"
   ]
  },
  {
   "cell_type": "code",
   "execution_count": 77,
   "metadata": {},
   "outputs": [],
   "source": [
    "model = Sequential()\n",
    "\n",
    "model.add(Dense(12, activation=\"relu\"))\n",
    "model.add(Dense(12, activation=\"relu\"))\n",
    "model.add(Dense(12, activation=\"relu\"))\n",
    "model.add(Dense(12, activation=\"relu\"))\n",
    "\n",
    "model.add(Dense(1))\n",
    "\n",
    "model.compile(optimizer=\"adam\", loss=\"mse\")"
   ]
  },
  {
   "cell_type": "code",
   "execution_count": 78,
   "metadata": {},
   "outputs": [],
   "source": [
    "#Adım 5:\n",
    "\n",
    "#Model eğitilmeye başlanır."
   ]
  },
  {
   "cell_type": "code",
   "execution_count": 79,
   "metadata": {},
   "outputs": [
    {
     "name": "stdout",
     "output_type": "stream",
     "text": [
      "Epoch 1/300\n",
      "37/37 [==============================] - 1s 15ms/step - loss: 672144960.0000 - val_loss: 688101312.0000\n",
      "Epoch 2/300\n",
      "37/37 [==============================] - 0s 4ms/step - loss: 672122560.0000 - val_loss: 688066688.0000\n",
      "Epoch 3/300\n",
      "37/37 [==============================] - 0s 4ms/step - loss: 672062400.0000 - val_loss: 687963712.0000\n",
      "Epoch 4/300\n",
      "37/37 [==============================] - 0s 4ms/step - loss: 671885696.0000 - val_loss: 687673088.0000\n",
      "Epoch 5/300\n",
      "37/37 [==============================] - 0s 4ms/step - loss: 671431360.0000 - val_loss: 686970944.0000\n",
      "Epoch 6/300\n",
      "37/37 [==============================] - 0s 4ms/step - loss: 670389760.0000 - val_loss: 685414592.0000\n",
      "Epoch 7/300\n",
      "37/37 [==============================] - 0s 4ms/step - loss: 668121792.0000 - val_loss: 682113728.0000\n",
      "Epoch 8/300\n",
      "37/37 [==============================] - 0s 4ms/step - loss: 663556608.0000 - val_loss: 675757312.0000\n",
      "Epoch 9/300\n",
      "37/37 [==============================] - 0s 4ms/step - loss: 655128320.0000 - val_loss: 664491264.0000\n",
      "Epoch 10/300\n",
      "37/37 [==============================] - 0s 4ms/step - loss: 640857984.0000 - val_loss: 646096128.0000\n",
      "Epoch 11/300\n",
      "37/37 [==============================] - 0s 4ms/step - loss: 618451136.0000 - val_loss: 618099840.0000\n",
      "Epoch 12/300\n",
      "37/37 [==============================] - 0s 4ms/step - loss: 585425664.0000 - val_loss: 578322432.0000\n",
      "Epoch 13/300\n",
      "37/37 [==============================] - 0s 4ms/step - loss: 539946368.0000 - val_loss: 525252480.0000\n",
      "Epoch 14/300\n",
      "37/37 [==============================] - 0s 4ms/step - loss: 481267232.0000 - val_loss: 458991648.0000\n",
      "Epoch 15/300\n",
      "37/37 [==============================] - 0s 4ms/step - loss: 410929920.0000 - val_loss: 382549152.0000\n",
      "Epoch 16/300\n",
      "37/37 [==============================] - 0s 4ms/step - loss: 333431712.0000 - val_loss: 302152544.0000\n",
      "Epoch 17/300\n",
      "37/37 [==============================] - 0s 4ms/step - loss: 256250864.0000 - val_loss: 226655232.0000\n",
      "Epoch 18/300\n",
      "37/37 [==============================] - 0s 4ms/step - loss: 188786896.0000 - val_loss: 165787632.0000\n",
      "Epoch 19/300\n",
      "37/37 [==============================] - 0s 4ms/step - loss: 138848528.0000 - val_loss: 124864728.0000\n",
      "Epoch 20/300\n",
      "37/37 [==============================] - 0s 4ms/step - loss: 108999744.0000 - val_loss: 102889232.0000\n",
      "Epoch 21/300\n",
      "37/37 [==============================] - 0s 5ms/step - loss: 94870720.0000 - val_loss: 93844360.0000\n",
      "Epoch 22/300\n",
      "37/37 [==============================] - 0s 4ms/step - loss: 89585352.0000 - val_loss: 90381264.0000\n",
      "Epoch 23/300\n",
      "37/37 [==============================] - 0s 4ms/step - loss: 87725216.0000 - val_loss: 89034416.0000\n",
      "Epoch 24/300\n",
      "37/37 [==============================] - 0s 4ms/step - loss: 86912568.0000 - val_loss: 88314280.0000\n",
      "Epoch 25/300\n",
      "37/37 [==============================] - 0s 4ms/step - loss: 86375800.0000 - val_loss: 87737984.0000\n",
      "Epoch 26/300\n",
      "37/37 [==============================] - 0s 4ms/step - loss: 85904064.0000 - val_loss: 87292536.0000\n",
      "Epoch 27/300\n",
      "37/37 [==============================] - 0s 4ms/step - loss: 85461240.0000 - val_loss: 86840080.0000\n",
      "Epoch 28/300\n",
      "37/37 [==============================] - 0s 4ms/step - loss: 85035408.0000 - val_loss: 86415480.0000\n",
      "Epoch 29/300\n",
      "37/37 [==============================] - 0s 4ms/step - loss: 84623304.0000 - val_loss: 86000592.0000\n",
      "Epoch 30/300\n",
      "37/37 [==============================] - 0s 4ms/step - loss: 84217424.0000 - val_loss: 85611168.0000\n",
      "Epoch 31/300\n",
      "37/37 [==============================] - 0s 4ms/step - loss: 83823760.0000 - val_loss: 85218736.0000\n",
      "Epoch 32/300\n",
      "37/37 [==============================] - 0s 4ms/step - loss: 83432296.0000 - val_loss: 84827688.0000\n",
      "Epoch 33/300\n",
      "37/37 [==============================] - 0s 4ms/step - loss: 83053416.0000 - val_loss: 84448272.0000\n",
      "Epoch 34/300\n",
      "37/37 [==============================] - 0s 4ms/step - loss: 82674920.0000 - val_loss: 84062712.0000\n",
      "Epoch 35/300\n",
      "37/37 [==============================] - 0s 4ms/step - loss: 82292168.0000 - val_loss: 83710544.0000\n",
      "Epoch 36/300\n",
      "37/37 [==============================] - 0s 4ms/step - loss: 81923032.0000 - val_loss: 83347728.0000\n",
      "Epoch 37/300\n",
      "37/37 [==============================] - 0s 4ms/step - loss: 81557384.0000 - val_loss: 82998440.0000\n",
      "Epoch 38/300\n",
      "37/37 [==============================] - 0s 4ms/step - loss: 81190280.0000 - val_loss: 82612360.0000\n",
      "Epoch 39/300\n",
      "37/37 [==============================] - 0s 4ms/step - loss: 80825952.0000 - val_loss: 82254384.0000\n",
      "Epoch 40/300\n",
      "37/37 [==============================] - 0s 4ms/step - loss: 80462048.0000 - val_loss: 81894168.0000\n",
      "Epoch 41/300\n",
      "37/37 [==============================] - 0s 4ms/step - loss: 80095656.0000 - val_loss: 81517448.0000\n",
      "Epoch 42/300\n",
      "37/37 [==============================] - 0s 4ms/step - loss: 79737304.0000 - val_loss: 81166512.0000\n",
      "Epoch 43/300\n",
      "37/37 [==============================] - 0s 4ms/step - loss: 79376248.0000 - val_loss: 80816624.0000\n",
      "Epoch 44/300\n",
      "37/37 [==============================] - 0s 4ms/step - loss: 79019440.0000 - val_loss: 80445904.0000\n",
      "Epoch 45/300\n",
      "37/37 [==============================] - 0s 4ms/step - loss: 78672272.0000 - val_loss: 80115888.0000\n",
      "Epoch 46/300\n",
      "37/37 [==============================] - 0s 4ms/step - loss: 78293400.0000 - val_loss: 79738328.0000\n",
      "Epoch 47/300\n",
      "37/37 [==============================] - 0s 4ms/step - loss: 77934264.0000 - val_loss: 79370904.0000\n",
      "Epoch 48/300\n",
      "37/37 [==============================] - 0s 4ms/step - loss: 77579880.0000 - val_loss: 79008592.0000\n",
      "Epoch 49/300\n",
      "37/37 [==============================] - 0s 4ms/step - loss: 77215104.0000 - val_loss: 78684112.0000\n",
      "Epoch 50/300\n",
      "37/37 [==============================] - 0s 4ms/step - loss: 76859336.0000 - val_loss: 78324080.0000\n",
      "Epoch 51/300\n",
      "37/37 [==============================] - 0s 4ms/step - loss: 76496232.0000 - val_loss: 77956904.0000\n",
      "Epoch 52/300\n",
      "37/37 [==============================] - 0s 4ms/step - loss: 76136544.0000 - val_loss: 77583168.0000\n",
      "Epoch 53/300\n",
      "37/37 [==============================] - 0s 4ms/step - loss: 75771072.0000 - val_loss: 77249464.0000\n",
      "Epoch 54/300\n",
      "37/37 [==============================] - 0s 4ms/step - loss: 75413456.0000 - val_loss: 76873000.0000\n",
      "Epoch 55/300\n",
      "37/37 [==============================] - 0s 4ms/step - loss: 75049736.0000 - val_loss: 76529208.0000\n",
      "Epoch 56/300\n",
      "37/37 [==============================] - 0s 4ms/step - loss: 74679848.0000 - val_loss: 76161448.0000\n",
      "Epoch 57/300\n",
      "37/37 [==============================] - 0s 4ms/step - loss: 74311496.0000 - val_loss: 75788608.0000\n",
      "Epoch 58/300\n",
      "37/37 [==============================] - 0s 4ms/step - loss: 73947744.0000 - val_loss: 75396696.0000\n",
      "Epoch 59/300\n",
      "37/37 [==============================] - 0s 4ms/step - loss: 73571104.0000 - val_loss: 75053360.0000\n",
      "Epoch 60/300\n",
      "37/37 [==============================] - 0s 4ms/step - loss: 73212040.0000 - val_loss: 74682096.0000\n",
      "Epoch 61/300\n",
      "37/37 [==============================] - 0s 4ms/step - loss: 72841352.0000 - val_loss: 74332376.0000\n",
      "Epoch 62/300\n",
      "37/37 [==============================] - 0s 4ms/step - loss: 72454536.0000 - val_loss: 73966616.0000\n",
      "Epoch 63/300\n",
      "37/37 [==============================] - 0s 4ms/step - loss: 72077744.0000 - val_loss: 73574792.0000\n",
      "Epoch 64/300\n",
      "37/37 [==============================] - 0s 4ms/step - loss: 71711832.0000 - val_loss: 73207472.0000\n",
      "Epoch 65/300\n",
      "37/37 [==============================] - 0s 4ms/step - loss: 71322312.0000 - val_loss: 72826408.0000\n",
      "Epoch 66/300\n",
      "37/37 [==============================] - 0s 4ms/step - loss: 70942696.0000 - val_loss: 72458496.0000\n",
      "Epoch 67/300\n",
      "37/37 [==============================] - 0s 4ms/step - loss: 70565656.0000 - val_loss: 72066240.0000\n",
      "Epoch 68/300\n",
      "37/37 [==============================] - 0s 4ms/step - loss: 70176224.0000 - val_loss: 71703120.0000\n",
      "Epoch 69/300\n",
      "37/37 [==============================] - 0s 4ms/step - loss: 69778536.0000 - val_loss: 71293816.0000\n",
      "Epoch 70/300\n",
      "37/37 [==============================] - 0s 4ms/step - loss: 69393192.0000 - val_loss: 70919240.0000\n",
      "Epoch 71/300\n",
      "37/37 [==============================] - 0s 4ms/step - loss: 68993880.0000 - val_loss: 70528488.0000\n",
      "Epoch 72/300\n",
      "37/37 [==============================] - 0s 4ms/step - loss: 68596688.0000 - val_loss: 70127872.0000\n",
      "Epoch 73/300\n",
      "37/37 [==============================] - 0s 4ms/step - loss: 68204288.0000 - val_loss: 69732152.0000\n",
      "Epoch 74/300\n",
      "37/37 [==============================] - 0s 4ms/step - loss: 67789448.0000 - val_loss: 69329304.0000\n",
      "Epoch 75/300\n",
      "37/37 [==============================] - 0s 4ms/step - loss: 67381792.0000 - val_loss: 68912872.0000\n",
      "Epoch 76/300\n",
      "37/37 [==============================] - 0s 4ms/step - loss: 66973396.0000 - val_loss: 68513320.0000\n",
      "Epoch 77/300\n",
      "37/37 [==============================] - 0s 4ms/step - loss: 66558288.0000 - val_loss: 68098184.0000\n",
      "Epoch 78/300\n",
      "37/37 [==============================] - 0s 4ms/step - loss: 66135716.0000 - val_loss: 67672448.0000\n",
      "Epoch 79/300\n",
      "37/37 [==============================] - 0s 4ms/step - loss: 65708944.0000 - val_loss: 67251640.0000\n",
      "Epoch 80/300\n",
      "37/37 [==============================] - 0s 4ms/step - loss: 65292444.0000 - val_loss: 66842532.0000\n",
      "Epoch 81/300\n",
      "37/37 [==============================] - 0s 5ms/step - loss: 64857612.0000 - val_loss: 66399212.0000\n",
      "Epoch 82/300\n",
      "37/37 [==============================] - 0s 4ms/step - loss: 64413012.0000 - val_loss: 65968564.0000\n",
      "Epoch 83/300\n",
      "37/37 [==============================] - 0s 4ms/step - loss: 63970160.0000 - val_loss: 65514464.0000\n",
      "Epoch 84/300\n",
      "37/37 [==============================] - 0s 4ms/step - loss: 63522864.0000 - val_loss: 65083860.0000\n",
      "Epoch 85/300\n",
      "37/37 [==============================] - 0s 4ms/step - loss: 63072400.0000 - val_loss: 64623908.0000\n",
      "Epoch 86/300\n",
      "37/37 [==============================] - 0s 4ms/step - loss: 62614112.0000 - val_loss: 64169436.0000\n",
      "Epoch 87/300\n",
      "37/37 [==============================] - 0s 4ms/step - loss: 62155360.0000 - val_loss: 63730016.0000\n",
      "Epoch 88/300\n",
      "37/37 [==============================] - 0s 4ms/step - loss: 61688300.0000 - val_loss: 63240856.0000\n",
      "Epoch 89/300\n",
      "37/37 [==============================] - 0s 4ms/step - loss: 61216520.0000 - val_loss: 62767728.0000\n",
      "Epoch 90/300\n",
      "37/37 [==============================] - 0s 4ms/step - loss: 60746400.0000 - val_loss: 62293388.0000\n",
      "Epoch 91/300\n",
      "37/37 [==============================] - 0s 4ms/step - loss: 60252312.0000 - val_loss: 61794328.0000\n",
      "Epoch 92/300\n",
      "37/37 [==============================] - 0s 4ms/step - loss: 59749808.0000 - val_loss: 61317324.0000\n",
      "Epoch 93/300\n",
      "37/37 [==============================] - 0s 4ms/step - loss: 59265084.0000 - val_loss: 60828700.0000\n",
      "Epoch 94/300\n",
      "37/37 [==============================] - 0s 4ms/step - loss: 58750376.0000 - val_loss: 60297384.0000\n",
      "Epoch 95/300\n",
      "37/37 [==============================] - 0s 4ms/step - loss: 58238060.0000 - val_loss: 59770304.0000\n",
      "Epoch 96/300\n",
      "37/37 [==============================] - 0s 4ms/step - loss: 57712400.0000 - val_loss: 59279468.0000\n",
      "Epoch 97/300\n",
      "37/37 [==============================] - 0s 4ms/step - loss: 57201364.0000 - val_loss: 58747060.0000\n",
      "Epoch 98/300\n",
      "37/37 [==============================] - 0s 4ms/step - loss: 56652468.0000 - val_loss: 58179852.0000\n",
      "Epoch 99/300\n",
      "37/37 [==============================] - 0s 4ms/step - loss: 56100596.0000 - val_loss: 57620288.0000\n",
      "Epoch 100/300\n",
      "37/37 [==============================] - 0s 4ms/step - loss: 55547744.0000 - val_loss: 57064808.0000\n",
      "Epoch 101/300\n",
      "37/37 [==============================] - 0s 4ms/step - loss: 54979376.0000 - val_loss: 56498816.0000\n",
      "Epoch 102/300\n",
      "37/37 [==============================] - 0s 4ms/step - loss: 54441604.0000 - val_loss: 55924024.0000\n",
      "Epoch 103/300\n",
      "37/37 [==============================] - 0s 4ms/step - loss: 53855224.0000 - val_loss: 55344484.0000\n",
      "Epoch 104/300\n",
      "37/37 [==============================] - 0s 4ms/step - loss: 53256572.0000 - val_loss: 54743816.0000\n",
      "Epoch 105/300\n",
      "37/37 [==============================] - 0s 4ms/step - loss: 52656320.0000 - val_loss: 54149212.0000\n",
      "Epoch 106/300\n",
      "37/37 [==============================] - 0s 4ms/step - loss: 52077348.0000 - val_loss: 53525936.0000\n",
      "Epoch 107/300\n",
      "37/37 [==============================] - 0s 4ms/step - loss: 51431212.0000 - val_loss: 52916300.0000\n",
      "Epoch 108/300\n",
      "37/37 [==============================] - 0s 4ms/step - loss: 50813596.0000 - val_loss: 52268112.0000\n",
      "Epoch 109/300\n",
      "37/37 [==============================] - 0s 4ms/step - loss: 50196032.0000 - val_loss: 51661364.0000\n",
      "Epoch 110/300\n",
      "37/37 [==============================] - 0s 4ms/step - loss: 49567144.0000 - val_loss: 51008076.0000\n",
      "Epoch 111/300\n",
      "37/37 [==============================] - 0s 4ms/step - loss: 48916964.0000 - val_loss: 50343720.0000\n",
      "Epoch 112/300\n",
      "37/37 [==============================] - 0s 4ms/step - loss: 48303004.0000 - val_loss: 49715180.0000\n",
      "Epoch 113/300\n",
      "37/37 [==============================] - 0s 4ms/step - loss: 47625316.0000 - val_loss: 49008572.0000\n",
      "Epoch 114/300\n",
      "37/37 [==============================] - 0s 4ms/step - loss: 46964364.0000 - val_loss: 48328340.0000\n",
      "Epoch 115/300\n",
      "37/37 [==============================] - 0s 4ms/step - loss: 46287956.0000 - val_loss: 47657448.0000\n",
      "Epoch 116/300\n",
      "37/37 [==============================] - 0s 4ms/step - loss: 45659984.0000 - val_loss: 46972632.0000\n",
      "Epoch 117/300\n",
      "37/37 [==============================] - 0s 3ms/step - loss: 44952640.0000 - val_loss: 46289256.0000\n",
      "Epoch 118/300\n",
      "37/37 [==============================] - 0s 4ms/step - loss: 44293828.0000 - val_loss: 45586772.0000\n",
      "Epoch 119/300\n",
      "37/37 [==============================] - 0s 4ms/step - loss: 43608472.0000 - val_loss: 44899744.0000\n",
      "Epoch 120/300\n",
      "37/37 [==============================] - 0s 4ms/step - loss: 42936508.0000 - val_loss: 44201288.0000\n",
      "Epoch 121/300\n",
      "37/37 [==============================] - 0s 4ms/step - loss: 42284556.0000 - val_loss: 43530704.0000\n",
      "Epoch 122/300\n",
      "37/37 [==============================] - 0s 4ms/step - loss: 41599248.0000 - val_loss: 42820580.0000\n",
      "Epoch 123/300\n",
      "37/37 [==============================] - 0s 3ms/step - loss: 40958668.0000 - val_loss: 42156808.0000\n",
      "Epoch 124/300\n",
      "37/37 [==============================] - 0s 4ms/step - loss: 40315220.0000 - val_loss: 41476148.0000\n",
      "Epoch 125/300\n",
      "37/37 [==============================] - 0s 4ms/step - loss: 39649408.0000 - val_loss: 40799012.0000\n",
      "Epoch 126/300\n",
      "37/37 [==============================] - 0s 4ms/step - loss: 39022512.0000 - val_loss: 40129264.0000\n",
      "Epoch 127/300\n",
      "37/37 [==============================] - 0s 4ms/step - loss: 38367388.0000 - val_loss: 39481348.0000\n",
      "Epoch 128/300\n",
      "37/37 [==============================] - 0s 4ms/step - loss: 37753136.0000 - val_loss: 38850932.0000\n",
      "Epoch 129/300\n",
      "37/37 [==============================] - 0s 4ms/step - loss: 37161024.0000 - val_loss: 38223236.0000\n",
      "Epoch 130/300\n",
      "37/37 [==============================] - 0s 4ms/step - loss: 36580496.0000 - val_loss: 37613436.0000\n",
      "Epoch 131/300\n",
      "37/37 [==============================] - 0s 4ms/step - loss: 35997712.0000 - val_loss: 37032812.0000\n",
      "Epoch 132/300\n",
      "37/37 [==============================] - 0s 4ms/step - loss: 35447012.0000 - val_loss: 36471680.0000\n",
      "Epoch 133/300\n",
      "37/37 [==============================] - 0s 4ms/step - loss: 34920896.0000 - val_loss: 35926072.0000\n",
      "Epoch 134/300\n",
      "37/37 [==============================] - 0s 3ms/step - loss: 34408908.0000 - val_loss: 35368324.0000\n",
      "Epoch 135/300\n",
      "37/37 [==============================] - 0s 4ms/step - loss: 33908024.0000 - val_loss: 34868908.0000\n",
      "Epoch 136/300\n",
      "37/37 [==============================] - 0s 4ms/step - loss: 33440894.0000 - val_loss: 34390316.0000\n",
      "Epoch 137/300\n",
      "37/37 [==============================] - 0s 4ms/step - loss: 32995596.0000 - val_loss: 33921496.0000\n",
      "Epoch 138/300\n",
      "37/37 [==============================] - 0s 4ms/step - loss: 32580934.0000 - val_loss: 33492556.0000\n",
      "Epoch 139/300\n",
      "37/37 [==============================] - 0s 3ms/step - loss: 32159636.0000 - val_loss: 33078712.0000\n",
      "Epoch 140/300\n",
      "37/37 [==============================] - 0s 4ms/step - loss: 31833662.0000 - val_loss: 32685146.0000\n",
      "Epoch 141/300\n",
      "37/37 [==============================] - 0s 4ms/step - loss: 31419210.0000 - val_loss: 32316610.0000\n",
      "Epoch 142/300\n",
      "37/37 [==============================] - 0s 4ms/step - loss: 31085964.0000 - val_loss: 31964352.0000\n",
      "Epoch 143/300\n"
     ]
    },
    {
     "name": "stdout",
     "output_type": "stream",
     "text": [
      "37/37 [==============================] - 0s 3ms/step - loss: 30742642.0000 - val_loss: 31630244.0000\n",
      "Epoch 144/300\n",
      "37/37 [==============================] - 0s 4ms/step - loss: 30460898.0000 - val_loss: 31285002.0000\n",
      "Epoch 145/300\n",
      "37/37 [==============================] - 0s 4ms/step - loss: 30141492.0000 - val_loss: 30977508.0000\n",
      "Epoch 146/300\n",
      "37/37 [==============================] - 0s 3ms/step - loss: 29850280.0000 - val_loss: 30717012.0000\n",
      "Epoch 147/300\n",
      "37/37 [==============================] - 0s 4ms/step - loss: 29593516.0000 - val_loss: 30404702.0000\n",
      "Epoch 148/300\n",
      "37/37 [==============================] - 0s 4ms/step - loss: 29340486.0000 - val_loss: 30176448.0000\n",
      "Epoch 149/300\n",
      "37/37 [==============================] - 0s 4ms/step - loss: 29071978.0000 - val_loss: 29864818.0000\n",
      "Epoch 150/300\n",
      "37/37 [==============================] - 0s 3ms/step - loss: 28832820.0000 - val_loss: 29685534.0000\n",
      "Epoch 151/300\n",
      "37/37 [==============================] - 0s 4ms/step - loss: 28587130.0000 - val_loss: 29355184.0000\n",
      "Epoch 152/300\n",
      "37/37 [==============================] - 0s 4ms/step - loss: 28315322.0000 - val_loss: 29101636.0000\n",
      "Epoch 153/300\n",
      "37/37 [==============================] - 0s 3ms/step - loss: 28067086.0000 - val_loss: 28833314.0000\n",
      "Epoch 154/300\n",
      "37/37 [==============================] - 0s 3ms/step - loss: 27800128.0000 - val_loss: 28556014.0000\n",
      "Epoch 155/300\n",
      "37/37 [==============================] - 0s 4ms/step - loss: 27533290.0000 - val_loss: 28287442.0000\n",
      "Epoch 156/300\n",
      "37/37 [==============================] - 0s 4ms/step - loss: 27262950.0000 - val_loss: 28043906.0000\n",
      "Epoch 157/300\n",
      "37/37 [==============================] - 0s 4ms/step - loss: 26993680.0000 - val_loss: 27783082.0000\n",
      "Epoch 158/300\n",
      "37/37 [==============================] - 0s 4ms/step - loss: 26760922.0000 - val_loss: 27557680.0000\n",
      "Epoch 159/300\n",
      "37/37 [==============================] - 0s 4ms/step - loss: 26530284.0000 - val_loss: 27344142.0000\n",
      "Epoch 160/300\n",
      "37/37 [==============================] - 0s 4ms/step - loss: 26332832.0000 - val_loss: 27151258.0000\n",
      "Epoch 161/300\n",
      "37/37 [==============================] - 0s 4ms/step - loss: 26139440.0000 - val_loss: 26986308.0000\n",
      "Epoch 162/300\n",
      "37/37 [==============================] - 0s 4ms/step - loss: 25977594.0000 - val_loss: 26801324.0000\n",
      "Epoch 163/300\n",
      "37/37 [==============================] - 0s 4ms/step - loss: 25798096.0000 - val_loss: 26633062.0000\n",
      "Epoch 164/300\n",
      "37/37 [==============================] - 0s 4ms/step - loss: 25606532.0000 - val_loss: 26447698.0000\n",
      "Epoch 165/300\n",
      "37/37 [==============================] - 0s 4ms/step - loss: 25396744.0000 - val_loss: 26246486.0000\n",
      "Epoch 166/300\n",
      "37/37 [==============================] - 0s 4ms/step - loss: 25199532.0000 - val_loss: 26063154.0000\n",
      "Epoch 167/300\n",
      "37/37 [==============================] - 0s 4ms/step - loss: 25010346.0000 - val_loss: 25859146.0000\n",
      "Epoch 168/300\n",
      "37/37 [==============================] - 0s 4ms/step - loss: 24809898.0000 - val_loss: 25670838.0000\n",
      "Epoch 169/300\n",
      "37/37 [==============================] - 0s 4ms/step - loss: 24621882.0000 - val_loss: 25514516.0000\n",
      "Epoch 170/300\n",
      "37/37 [==============================] - 0s 4ms/step - loss: 24445186.0000 - val_loss: 25310756.0000\n",
      "Epoch 171/300\n",
      "37/37 [==============================] - 0s 4ms/step - loss: 24269406.0000 - val_loss: 25141422.0000\n",
      "Epoch 172/300\n",
      "37/37 [==============================] - 0s 4ms/step - loss: 24083128.0000 - val_loss: 25006298.0000\n",
      "Epoch 173/300\n",
      "37/37 [==============================] - 0s 3ms/step - loss: 23908468.0000 - val_loss: 24843238.0000\n",
      "Epoch 174/300\n",
      "37/37 [==============================] - 0s 3ms/step - loss: 23762602.0000 - val_loss: 24712934.0000\n",
      "Epoch 175/300\n",
      "37/37 [==============================] - 0s 3ms/step - loss: 23617760.0000 - val_loss: 24592218.0000\n",
      "Epoch 176/300\n",
      "37/37 [==============================] - 0s 4ms/step - loss: 23482642.0000 - val_loss: 24479150.0000\n",
      "Epoch 177/300\n",
      "37/37 [==============================] - 0s 4ms/step - loss: 23369012.0000 - val_loss: 24381220.0000\n",
      "Epoch 178/300\n",
      "37/37 [==============================] - 0s 4ms/step - loss: 23254772.0000 - val_loss: 24340188.0000\n",
      "Epoch 179/300\n",
      "37/37 [==============================] - 0s 4ms/step - loss: 23196476.0000 - val_loss: 24204912.0000\n",
      "Epoch 180/300\n",
      "37/37 [==============================] - 0s 4ms/step - loss: 23091806.0000 - val_loss: 24126524.0000\n",
      "Epoch 181/300\n",
      "37/37 [==============================] - 0s 4ms/step - loss: 23018826.0000 - val_loss: 24055662.0000\n",
      "Epoch 182/300\n",
      "37/37 [==============================] - 0s 4ms/step - loss: 22932494.0000 - val_loss: 24011690.0000\n",
      "Epoch 183/300\n",
      "37/37 [==============================] - 0s 4ms/step - loss: 22862792.0000 - val_loss: 23947808.0000\n",
      "Epoch 184/300\n",
      "37/37 [==============================] - 0s 4ms/step - loss: 22788768.0000 - val_loss: 23881286.0000\n",
      "Epoch 185/300\n",
      "37/37 [==============================] - 0s 4ms/step - loss: 22721354.0000 - val_loss: 23781596.0000\n",
      "Epoch 186/300\n",
      "37/37 [==============================] - 0s 4ms/step - loss: 22664094.0000 - val_loss: 23766870.0000\n",
      "Epoch 187/300\n",
      "37/37 [==============================] - 0s 4ms/step - loss: 22587656.0000 - val_loss: 23668334.0000\n",
      "Epoch 188/300\n",
      "37/37 [==============================] - 0s 4ms/step - loss: 22524814.0000 - val_loss: 23595534.0000\n",
      "Epoch 189/300\n",
      "37/37 [==============================] - 0s 4ms/step - loss: 22440690.0000 - val_loss: 23528722.0000\n",
      "Epoch 190/300\n",
      "37/37 [==============================] - 0s 4ms/step - loss: 22370444.0000 - val_loss: 23483800.0000\n",
      "Epoch 191/300\n",
      "37/37 [==============================] - 0s 4ms/step - loss: 22313602.0000 - val_loss: 23415848.0000\n",
      "Epoch 192/300\n",
      "37/37 [==============================] - 0s 4ms/step - loss: 22246866.0000 - val_loss: 23344452.0000\n",
      "Epoch 193/300\n",
      "37/37 [==============================] - 0s 4ms/step - loss: 22189668.0000 - val_loss: 23340806.0000\n",
      "Epoch 194/300\n",
      "37/37 [==============================] - 0s 4ms/step - loss: 22135824.0000 - val_loss: 23230326.0000\n",
      "Epoch 195/300\n",
      "37/37 [==============================] - 0s 3ms/step - loss: 22076996.0000 - val_loss: 23182112.0000\n",
      "Epoch 196/300\n",
      "37/37 [==============================] - 0s 4ms/step - loss: 22001656.0000 - val_loss: 23125482.0000\n",
      "Epoch 197/300\n",
      "37/37 [==============================] - 0s 3ms/step - loss: 21957836.0000 - val_loss: 23078760.0000\n",
      "Epoch 198/300\n",
      "37/37 [==============================] - 0s 4ms/step - loss: 21892710.0000 - val_loss: 23013042.0000\n",
      "Epoch 199/300\n",
      "37/37 [==============================] - 0s 4ms/step - loss: 21806964.0000 - val_loss: 22938224.0000\n",
      "Epoch 200/300\n",
      "37/37 [==============================] - 0s 4ms/step - loss: 21753154.0000 - val_loss: 22910990.0000\n",
      "Epoch 201/300\n",
      "37/37 [==============================] - 0s 4ms/step - loss: 21670910.0000 - val_loss: 22802614.0000\n",
      "Epoch 202/300\n",
      "37/37 [==============================] - 0s 4ms/step - loss: 21553538.0000 - val_loss: 22776436.0000\n",
      "Epoch 203/300\n",
      "37/37 [==============================] - 0s 3ms/step - loss: 21491630.0000 - val_loss: 22678024.0000\n",
      "Epoch 204/300\n",
      "37/37 [==============================] - 0s 4ms/step - loss: 21431438.0000 - val_loss: 22669664.0000\n",
      "Epoch 205/300\n",
      "37/37 [==============================] - 0s 3ms/step - loss: 21377964.0000 - val_loss: 22583762.0000\n",
      "Epoch 206/300\n",
      "37/37 [==============================] - 0s 4ms/step - loss: 21313296.0000 - val_loss: 22595648.0000\n",
      "Epoch 207/300\n",
      "37/37 [==============================] - 0s 4ms/step - loss: 21280874.0000 - val_loss: 22489162.0000\n",
      "Epoch 208/300\n",
      "37/37 [==============================] - 0s 3ms/step - loss: 21212936.0000 - val_loss: 22440016.0000\n",
      "Epoch 209/300\n",
      "37/37 [==============================] - 0s 4ms/step - loss: 21186166.0000 - val_loss: 22424368.0000\n",
      "Epoch 210/300\n",
      "37/37 [==============================] - 0s 4ms/step - loss: 21119600.0000 - val_loss: 22367920.0000\n",
      "Epoch 211/300\n",
      "37/37 [==============================] - 0s 4ms/step - loss: 21110520.0000 - val_loss: 22375630.0000\n",
      "Epoch 212/300\n",
      "37/37 [==============================] - 0s 4ms/step - loss: 21065350.0000 - val_loss: 22431440.0000\n",
      "Epoch 213/300\n",
      "37/37 [==============================] - 0s 4ms/step - loss: 21019586.0000 - val_loss: 22274276.0000\n",
      "Epoch 214/300\n",
      "37/37 [==============================] - 0s 4ms/step - loss: 20981134.0000 - val_loss: 22288320.0000\n",
      "Epoch 215/300\n",
      "37/37 [==============================] - 0s 3ms/step - loss: 20953230.0000 - val_loss: 22218720.0000\n",
      "Epoch 216/300\n",
      "37/37 [==============================] - 0s 4ms/step - loss: 20907036.0000 - val_loss: 22190252.0000\n",
      "Epoch 217/300\n",
      "37/37 [==============================] - 0s 3ms/step - loss: 20899474.0000 - val_loss: 22188042.0000\n",
      "Epoch 218/300\n",
      "37/37 [==============================] - 0s 4ms/step - loss: 20870718.0000 - val_loss: 22146962.0000\n",
      "Epoch 219/300\n",
      "37/37 [==============================] - 0s 4ms/step - loss: 20821610.0000 - val_loss: 22131750.0000\n",
      "Epoch 220/300\n",
      "37/37 [==============================] - 0s 4ms/step - loss: 20832338.0000 - val_loss: 22085770.0000\n",
      "Epoch 221/300\n",
      "37/37 [==============================] - 0s 4ms/step - loss: 20766424.0000 - val_loss: 22067998.0000\n",
      "Epoch 222/300\n",
      "37/37 [==============================] - 0s 3ms/step - loss: 20725656.0000 - val_loss: 22073200.0000\n",
      "Epoch 223/300\n",
      "37/37 [==============================] - 0s 3ms/step - loss: 20731880.0000 - val_loss: 22015884.0000\n",
      "Epoch 224/300\n",
      "37/37 [==============================] - 0s 3ms/step - loss: 20689736.0000 - val_loss: 21997514.0000\n",
      "Epoch 225/300\n",
      "37/37 [==============================] - 0s 4ms/step - loss: 20662426.0000 - val_loss: 21970568.0000\n",
      "Epoch 226/300\n",
      "37/37 [==============================] - 0s 4ms/step - loss: 20650076.0000 - val_loss: 21949652.0000\n",
      "Epoch 227/300\n",
      "37/37 [==============================] - 0s 4ms/step - loss: 20600618.0000 - val_loss: 21930270.0000\n",
      "Epoch 228/300\n",
      "37/37 [==============================] - 0s 3ms/step - loss: 20598232.0000 - val_loss: 21931986.0000\n",
      "Epoch 229/300\n",
      "37/37 [==============================] - 0s 4ms/step - loss: 20548430.0000 - val_loss: 21887118.0000\n",
      "Epoch 230/300\n",
      "37/37 [==============================] - 0s 3ms/step - loss: 20523650.0000 - val_loss: 21887118.0000\n",
      "Epoch 231/300\n",
      "37/37 [==============================] - 0s 4ms/step - loss: 20507778.0000 - val_loss: 21865516.0000\n",
      "Epoch 232/300\n",
      "37/37 [==============================] - 0s 4ms/step - loss: 20475202.0000 - val_loss: 21845226.0000\n",
      "Epoch 233/300\n",
      "37/37 [==============================] - 0s 4ms/step - loss: 20443188.0000 - val_loss: 21814368.0000\n",
      "Epoch 234/300\n",
      "37/37 [==============================] - 0s 4ms/step - loss: 20418278.0000 - val_loss: 21814682.0000\n",
      "Epoch 235/300\n",
      "37/37 [==============================] - 0s 4ms/step - loss: 20401394.0000 - val_loss: 21767582.0000\n",
      "Epoch 236/300\n",
      "37/37 [==============================] - 0s 4ms/step - loss: 20383238.0000 - val_loss: 21759934.0000\n",
      "Epoch 237/300\n",
      "37/37 [==============================] - 0s 4ms/step - loss: 20386814.0000 - val_loss: 21834430.0000\n",
      "Epoch 238/300\n",
      "37/37 [==============================] - 0s 4ms/step - loss: 20344912.0000 - val_loss: 21711734.0000\n",
      "Epoch 239/300\n",
      "37/37 [==============================] - 0s 3ms/step - loss: 20293738.0000 - val_loss: 21712554.0000\n",
      "Epoch 240/300\n",
      "37/37 [==============================] - 0s 4ms/step - loss: 20281322.0000 - val_loss: 21681208.0000\n",
      "Epoch 241/300\n",
      "37/37 [==============================] - 0s 4ms/step - loss: 20268422.0000 - val_loss: 21680262.0000\n",
      "Epoch 242/300\n",
      "37/37 [==============================] - 0s 4ms/step - loss: 20246614.0000 - val_loss: 21649944.0000\n",
      "Epoch 243/300\n",
      "37/37 [==============================] - 0s 4ms/step - loss: 20223936.0000 - val_loss: 21646110.0000\n",
      "Epoch 244/300\n",
      "37/37 [==============================] - 0s 3ms/step - loss: 20177666.0000 - val_loss: 21609186.0000\n",
      "Epoch 245/300\n",
      "37/37 [==============================] - 0s 4ms/step - loss: 20173040.0000 - val_loss: 21594122.0000\n",
      "Epoch 246/300\n",
      "37/37 [==============================] - 0s 3ms/step - loss: 20145786.0000 - val_loss: 21573596.0000\n",
      "Epoch 247/300\n",
      "37/37 [==============================] - 0s 4ms/step - loss: 20125248.0000 - val_loss: 21571234.0000\n",
      "Epoch 248/300\n",
      "37/37 [==============================] - 0s 4ms/step - loss: 20126184.0000 - val_loss: 21550664.0000\n",
      "Epoch 249/300\n",
      "37/37 [==============================] - 0s 4ms/step - loss: 20128482.0000 - val_loss: 21573018.0000\n",
      "Epoch 250/300\n",
      "37/37 [==============================] - 0s 4ms/step - loss: 20078534.0000 - val_loss: 21542444.0000\n",
      "Epoch 251/300\n",
      "37/37 [==============================] - 0s 4ms/step - loss: 20053538.0000 - val_loss: 21486508.0000\n",
      "Epoch 252/300\n",
      "37/37 [==============================] - 0s 4ms/step - loss: 20016408.0000 - val_loss: 21520114.0000\n",
      "Epoch 253/300\n",
      "37/37 [==============================] - 0s 3ms/step - loss: 20010912.0000 - val_loss: 21484872.0000\n",
      "Epoch 254/300\n",
      "37/37 [==============================] - 0s 4ms/step - loss: 19984158.0000 - val_loss: 21441102.0000\n",
      "Epoch 255/300\n",
      "37/37 [==============================] - 0s 4ms/step - loss: 19966098.0000 - val_loss: 21443670.0000\n",
      "Epoch 256/300\n",
      "37/37 [==============================] - 0s 4ms/step - loss: 19954190.0000 - val_loss: 21412582.0000\n",
      "Epoch 257/300\n",
      "37/37 [==============================] - 0s 4ms/step - loss: 19944118.0000 - val_loss: 21387772.0000\n",
      "Epoch 258/300\n",
      "37/37 [==============================] - 0s 3ms/step - loss: 19935178.0000 - val_loss: 21375522.0000\n",
      "Epoch 259/300\n",
      "37/37 [==============================] - 0s 3ms/step - loss: 19903288.0000 - val_loss: 21404398.0000\n",
      "Epoch 260/300\n",
      "37/37 [==============================] - 0s 4ms/step - loss: 19901078.0000 - val_loss: 21343534.0000\n",
      "Epoch 261/300\n",
      "37/37 [==============================] - 0s 4ms/step - loss: 19858716.0000 - val_loss: 21326384.0000\n",
      "Epoch 262/300\n",
      "37/37 [==============================] - 0s 4ms/step - loss: 19840792.0000 - val_loss: 21318758.0000\n",
      "Epoch 263/300\n",
      "37/37 [==============================] - 0s 4ms/step - loss: 19839056.0000 - val_loss: 21300686.0000\n",
      "Epoch 264/300\n",
      "37/37 [==============================] - 0s 4ms/step - loss: 19807034.0000 - val_loss: 21299854.0000\n",
      "Epoch 265/300\n",
      "37/37 [==============================] - 0s 4ms/step - loss: 19793982.0000 - val_loss: 21300348.0000\n",
      "Epoch 266/300\n",
      "37/37 [==============================] - 0s 4ms/step - loss: 19782364.0000 - val_loss: 21261576.0000\n",
      "Epoch 267/300\n",
      "37/37 [==============================] - 0s 4ms/step - loss: 19756520.0000 - val_loss: 21243978.0000\n",
      "Epoch 268/300\n",
      "37/37 [==============================] - 0s 4ms/step - loss: 19801002.0000 - val_loss: 21223938.0000\n",
      "Epoch 269/300\n",
      "37/37 [==============================] - 0s 3ms/step - loss: 19734504.0000 - val_loss: 21229320.0000\n",
      "Epoch 270/300\n",
      "37/37 [==============================] - 0s 4ms/step - loss: 19731962.0000 - val_loss: 21207168.0000\n",
      "Epoch 271/300\n",
      "37/37 [==============================] - 0s 4ms/step - loss: 19699902.0000 - val_loss: 21190590.0000\n",
      "Epoch 272/300\n",
      "37/37 [==============================] - 0s 4ms/step - loss: 19685222.0000 - val_loss: 21175792.0000\n",
      "Epoch 273/300\n",
      "37/37 [==============================] - 0s 3ms/step - loss: 19674164.0000 - val_loss: 21170064.0000\n",
      "Epoch 274/300\n",
      "37/37 [==============================] - 0s 4ms/step - loss: 19684538.0000 - val_loss: 21155976.0000\n",
      "Epoch 275/300\n",
      "37/37 [==============================] - 0s 4ms/step - loss: 19650354.0000 - val_loss: 21173178.0000\n",
      "Epoch 276/300\n",
      "37/37 [==============================] - 0s 4ms/step - loss: 19649236.0000 - val_loss: 21126170.0000\n",
      "Epoch 277/300\n",
      "37/37 [==============================] - 0s 4ms/step - loss: 19647866.0000 - val_loss: 21122558.0000\n",
      "Epoch 278/300\n",
      "37/37 [==============================] - 0s 4ms/step - loss: 19616630.0000 - val_loss: 21104540.0000\n",
      "Epoch 279/300\n",
      "37/37 [==============================] - 0s 4ms/step - loss: 19595628.0000 - val_loss: 21102286.0000\n",
      "Epoch 280/300\n",
      "37/37 [==============================] - 0s 4ms/step - loss: 19578976.0000 - val_loss: 21091318.0000\n",
      "Epoch 281/300\n",
      "37/37 [==============================] - 0s 4ms/step - loss: 19600646.0000 - val_loss: 21087606.0000\n",
      "Epoch 282/300\n",
      "37/37 [==============================] - 0s 4ms/step - loss: 19545124.0000 - val_loss: 21129514.0000\n",
      "Epoch 283/300\n",
      "37/37 [==============================] - 0s 4ms/step - loss: 19565102.0000 - val_loss: 21048206.0000\n",
      "Epoch 284/300\n",
      "37/37 [==============================] - 0s 4ms/step - loss: 19538388.0000 - val_loss: 21034642.0000\n",
      "Epoch 285/300\n"
     ]
    },
    {
     "name": "stdout",
     "output_type": "stream",
     "text": [
      "37/37 [==============================] - 0s 4ms/step - loss: 19531304.0000 - val_loss: 21055326.0000\n",
      "Epoch 286/300\n",
      "37/37 [==============================] - 0s 4ms/step - loss: 19516342.0000 - val_loss: 21026926.0000\n",
      "Epoch 287/300\n",
      "37/37 [==============================] - 0s 4ms/step - loss: 19517170.0000 - val_loss: 21038126.0000\n",
      "Epoch 288/300\n",
      "37/37 [==============================] - 0s 4ms/step - loss: 19515378.0000 - val_loss: 20992804.0000\n",
      "Epoch 289/300\n",
      "37/37 [==============================] - 0s 4ms/step - loss: 19491024.0000 - val_loss: 20997706.0000\n",
      "Epoch 290/300\n",
      "37/37 [==============================] - 0s 4ms/step - loss: 19481876.0000 - val_loss: 20992194.0000\n",
      "Epoch 291/300\n",
      "37/37 [==============================] - 0s 4ms/step - loss: 19496434.0000 - val_loss: 20969930.0000\n",
      "Epoch 292/300\n",
      "37/37 [==============================] - 0s 4ms/step - loss: 19460538.0000 - val_loss: 20964150.0000\n",
      "Epoch 293/300\n",
      "37/37 [==============================] - 0s 4ms/step - loss: 19462428.0000 - val_loss: 20943882.0000\n",
      "Epoch 294/300\n",
      "37/37 [==============================] - 0s 4ms/step - loss: 19433794.0000 - val_loss: 20973548.0000\n",
      "Epoch 295/300\n",
      "37/37 [==============================] - 0s 4ms/step - loss: 19442854.0000 - val_loss: 20957460.0000\n",
      "Epoch 296/300\n",
      "37/37 [==============================] - 0s 4ms/step - loss: 19429642.0000 - val_loss: 20922542.0000\n",
      "Epoch 297/300\n",
      "37/37 [==============================] - 0s 4ms/step - loss: 19427584.0000 - val_loss: 20945244.0000\n",
      "Epoch 298/300\n",
      "37/37 [==============================] - 0s 4ms/step - loss: 19408062.0000 - val_loss: 20896282.0000\n",
      "Epoch 299/300\n",
      "37/37 [==============================] - 0s 4ms/step - loss: 19396364.0000 - val_loss: 20880920.0000\n",
      "Epoch 300/300\n",
      "37/37 [==============================] - 0s 4ms/step - loss: 19383088.0000 - val_loss: 20875486.0000\n"
     ]
    },
    {
     "data": {
      "text/plain": [
       "<tensorflow.python.keras.callbacks.History at 0x1d6779aa730>"
      ]
     },
     "execution_count": 79,
     "metadata": {},
     "output_type": "execute_result"
    }
   ],
   "source": [
    "model.fit(x = x_train, y = y_train, validation_data=(x_test, y_test), batch_size = 250, epochs = 300)\n",
    "\n",
    "#validation_data, doğrulama verisi anlamındadır.\n",
    "#Testlerimizi de vererek ne kadar kayıp (hata) olduğunu da öğrenebiliriz.\n",
    "\n",
    "#batch_size, modele kaçar kaçar öğrenme verisi gönderileceğini belirtir.\n",
    "#9090 tane eğitim verisini bir anda modele vermek modeli yoracaktır. O yüzden azar azar verilmelidir.\n",
    "#Burada 250'şer olarak veri verilmesi tercih edildi.\n",
    "#Verinin çokluğuna göre bu değer karar verilir veya hiç yazılmaz. Çok düşük yazıldığında da çok uzun sürecektir."
   ]
  },
  {
   "cell_type": "markdown",
   "metadata": {},
   "source": [
    "## 8.20_Sonuçları Değerlendirmek"
   ]
  },
  {
   "cell_type": "code",
   "execution_count": 80,
   "metadata": {},
   "outputs": [],
   "source": [
    "#Adım 6:\n",
    "\n",
    "#loss'lar incelenir."
   ]
  },
  {
   "cell_type": "code",
   "execution_count": 81,
   "metadata": {},
   "outputs": [],
   "source": [
    "kayipVerisi = pd.DataFrame(model.history.history)"
   ]
  },
  {
   "cell_type": "code",
   "execution_count": 82,
   "metadata": {},
   "outputs": [
    {
     "data": {
      "text/html": [
       "<div>\n",
       "<style scoped>\n",
       "    .dataframe tbody tr th:only-of-type {\n",
       "        vertical-align: middle;\n",
       "    }\n",
       "\n",
       "    .dataframe tbody tr th {\n",
       "        vertical-align: top;\n",
       "    }\n",
       "\n",
       "    .dataframe thead th {\n",
       "        text-align: right;\n",
       "    }\n",
       "</style>\n",
       "<table border=\"1\" class=\"dataframe\">\n",
       "  <thead>\n",
       "    <tr style=\"text-align: right;\">\n",
       "      <th></th>\n",
       "      <th>loss</th>\n",
       "      <th>val_loss</th>\n",
       "    </tr>\n",
       "  </thead>\n",
       "  <tbody>\n",
       "    <tr>\n",
       "      <th>0</th>\n",
       "      <td>672144960.0</td>\n",
       "      <td>688101312.0</td>\n",
       "    </tr>\n",
       "    <tr>\n",
       "      <th>1</th>\n",
       "      <td>672122560.0</td>\n",
       "      <td>688066688.0</td>\n",
       "    </tr>\n",
       "    <tr>\n",
       "      <th>2</th>\n",
       "      <td>672062400.0</td>\n",
       "      <td>687963712.0</td>\n",
       "    </tr>\n",
       "    <tr>\n",
       "      <th>3</th>\n",
       "      <td>671885696.0</td>\n",
       "      <td>687673088.0</td>\n",
       "    </tr>\n",
       "    <tr>\n",
       "      <th>4</th>\n",
       "      <td>671431360.0</td>\n",
       "      <td>686970944.0</td>\n",
       "    </tr>\n",
       "  </tbody>\n",
       "</table>\n",
       "</div>"
      ],
      "text/plain": [
       "          loss     val_loss\n",
       "0  672144960.0  688101312.0\n",
       "1  672122560.0  688066688.0\n",
       "2  672062400.0  687963712.0\n",
       "3  671885696.0  687673088.0\n",
       "4  671431360.0  686970944.0"
      ]
     },
     "execution_count": 82,
     "metadata": {},
     "output_type": "execute_result"
    }
   ],
   "source": [
    "kayipVerisi.head()"
   ]
  },
  {
   "cell_type": "code",
   "execution_count": 83,
   "metadata": {},
   "outputs": [
    {
     "data": {
      "text/plain": [
       "<AxesSubplot:>"
      ]
     },
     "execution_count": 83,
     "metadata": {},
     "output_type": "execute_result"
    },
    {
     "data": {
      "image/png": "[encoded data removed]",
      "text/plain": [
       "<Figure size 432x288 with 1 Axes>"
      ]
     },
     "metadata": {
      "needs_background": "light"
     },
     "output_type": "display_data"
    }
   ],
   "source": [
    "kayipVerisi.plot()"
   ]
  },
  {
   "cell_type": "code",
   "execution_count": 84,
   "metadata": {},
   "outputs": [],
   "source": [
    "#İki çizginin de beraber ilerlemesi iyiye işarettir."
   ]
  },
  {
   "cell_type": "code",
   "execution_count": 85,
   "metadata": {},
   "outputs": [],
   "source": [
    "#Adım 7:\n",
    "\n",
    "#Modele x_test'leri vererek y'ler tahmin edilir."
   ]
  },
  {
   "cell_type": "code",
   "execution_count": 86,
   "metadata": {},
   "outputs": [],
   "source": [
    "from sklearn.metrics import mean_squared_error, mean_absolute_error"
   ]
  },
  {
   "cell_type": "code",
   "execution_count": 87,
   "metadata": {},
   "outputs": [],
   "source": [
    "tahminDizisi = model.predict(x_test)"
   ]
  },
  {
   "cell_type": "code",
   "execution_count": 88,
   "metadata": {},
   "outputs": [
    {
     "data": {
      "text/plain": [
       "array([[22688.812],\n",
       "       [23799.934],\n",
       "       [24618.146],\n",
       "       ...,\n",
       "       [25972.576],\n",
       "       [11262.649],\n",
       "       [24525.684]], dtype=float32)"
      ]
     },
     "execution_count": 88,
     "metadata": {},
     "output_type": "execute_result"
    }
   ],
   "source": [
    "tahminDizisi"
   ]
  },
  {
   "cell_type": "code",
   "execution_count": 89,
   "metadata": {},
   "outputs": [],
   "source": [
    "#Adım 8:\n",
    "\n",
    "#Hatalar incelenir."
   ]
  },
  {
   "cell_type": "code",
   "execution_count": 90,
   "metadata": {},
   "outputs": [
    {
     "data": {
      "text/plain": [
       "3237.9950084045113"
      ]
     },
     "execution_count": 90,
     "metadata": {},
     "output_type": "execute_result"
    }
   ],
   "source": [
    "mean_absolute_error(y_test, tahminDizisi)"
   ]
  },
  {
   "cell_type": "code",
   "execution_count": 91,
   "metadata": {},
   "outputs": [],
   "source": [
    "#Gerçek fiyat ile tahmin fiyatı arasındaki ortalama hata (sapma) hesaplandı.\n",
    "#Bu hatanın kabul edilebilir olup olmadığının kararını veri ile uğraşan kişi verir.\n",
    "\n",
    "#Eğer model beğenilmezse veya daha iyi sonuçlar elde edilmek isteniyorsa şunlar değiştirilebilir:\n",
    "\n",
    "# 1-Daha fazla veri temizlenebilir.\n",
    "# 2-Train/test ayırma oranı değiştirilebilir.\n",
    "# 3-Epoch sayısı arttırılabilir.\n",
    "# 4-Nöron ve katman sayıları arttırılabilir.\n",
    "\n",
    "#Özellikle epoch sayısı, nöron sayısı ve katman sayısı abartılmadan arttırılmalıdır. Aksi halde overfittinge yol açabilir."
   ]
  },
  {
   "cell_type": "code",
   "execution_count": 92,
   "metadata": {},
   "outputs": [
    {
     "data": {
      "text/html": [
       "<div>\n",
       "<style scoped>\n",
       "    .dataframe tbody tr th:only-of-type {\n",
       "        vertical-align: middle;\n",
       "    }\n",
       "\n",
       "    .dataframe tbody tr th {\n",
       "        vertical-align: top;\n",
       "    }\n",
       "\n",
       "    .dataframe thead th {\n",
       "        text-align: right;\n",
       "    }\n",
       "</style>\n",
       "<table border=\"1\" class=\"dataframe\">\n",
       "  <thead>\n",
       "    <tr style=\"text-align: right;\">\n",
       "      <th></th>\n",
       "      <th>year</th>\n",
       "      <th>price</th>\n",
       "      <th>mileage</th>\n",
       "      <th>tax</th>\n",
       "      <th>mpg</th>\n",
       "      <th>engineSize</th>\n",
       "    </tr>\n",
       "  </thead>\n",
       "  <tbody>\n",
       "    <tr>\n",
       "      <th>count</th>\n",
       "      <td>12987.000000</td>\n",
       "      <td>12987.000000</td>\n",
       "      <td>12987.000000</td>\n",
       "      <td>12987.000000</td>\n",
       "      <td>12987.000000</td>\n",
       "      <td>12987.000000</td>\n",
       "    </tr>\n",
       "    <tr>\n",
       "      <th>mean</th>\n",
       "      <td>2017.285516</td>\n",
       "      <td>24074.855779</td>\n",
       "      <td>22133.367367</td>\n",
       "      <td>129.676215</td>\n",
       "      <td>55.438392</td>\n",
       "      <td>2.051059</td>\n",
       "    </tr>\n",
       "    <tr>\n",
       "      <th>std</th>\n",
       "      <td>2.189633</td>\n",
       "      <td>9866.601115</td>\n",
       "      <td>21197.472376</td>\n",
       "      <td>65.167429</td>\n",
       "      <td>15.025902</td>\n",
       "      <td>0.532313</td>\n",
       "    </tr>\n",
       "    <tr>\n",
       "      <th>min</th>\n",
       "      <td>1997.000000</td>\n",
       "      <td>650.000000</td>\n",
       "      <td>1.000000</td>\n",
       "      <td>0.000000</td>\n",
       "      <td>1.100000</td>\n",
       "      <td>0.000000</td>\n",
       "    </tr>\n",
       "    <tr>\n",
       "      <th>25%</th>\n",
       "      <td>2016.000000</td>\n",
       "      <td>17355.000000</td>\n",
       "      <td>6320.000000</td>\n",
       "      <td>125.000000</td>\n",
       "      <td>45.600000</td>\n",
       "      <td>1.700000</td>\n",
       "    </tr>\n",
       "    <tr>\n",
       "      <th>50%</th>\n",
       "      <td>2018.000000</td>\n",
       "      <td>22299.000000</td>\n",
       "      <td>15371.000000</td>\n",
       "      <td>145.000000</td>\n",
       "      <td>56.500000</td>\n",
       "      <td>2.000000</td>\n",
       "    </tr>\n",
       "    <tr>\n",
       "      <th>75%</th>\n",
       "      <td>2019.000000</td>\n",
       "      <td>28706.000000</td>\n",
       "      <td>31986.500000</td>\n",
       "      <td>145.000000</td>\n",
       "      <td>64.200000</td>\n",
       "      <td>2.100000</td>\n",
       "    </tr>\n",
       "    <tr>\n",
       "      <th>max</th>\n",
       "      <td>2020.000000</td>\n",
       "      <td>65990.000000</td>\n",
       "      <td>259000.000000</td>\n",
       "      <td>580.000000</td>\n",
       "      <td>217.300000</td>\n",
       "      <td>6.200000</td>\n",
       "    </tr>\n",
       "  </tbody>\n",
       "</table>\n",
       "</div>"
      ],
      "text/plain": [
       "               year         price        mileage           tax           mpg  \\\n",
       "count  12987.000000  12987.000000   12987.000000  12987.000000  12987.000000   \n",
       "mean    2017.285516  24074.855779   22133.367367    129.676215     55.438392   \n",
       "std        2.189633   9866.601115   21197.472376     65.167429     15.025902   \n",
       "min     1997.000000    650.000000       1.000000      0.000000      1.100000   \n",
       "25%     2016.000000  17355.000000    6320.000000    125.000000     45.600000   \n",
       "50%     2018.000000  22299.000000   15371.000000    145.000000     56.500000   \n",
       "75%     2019.000000  28706.000000   31986.500000    145.000000     64.200000   \n",
       "max     2020.000000  65990.000000  259000.000000    580.000000    217.300000   \n",
       "\n",
       "         engineSize  \n",
       "count  12987.000000  \n",
       "mean       2.051059  \n",
       "std        0.532313  \n",
       "min        0.000000  \n",
       "25%        1.700000  \n",
       "50%        2.000000  \n",
       "75%        2.100000  \n",
       "max        6.200000  "
      ]
     },
     "execution_count": 92,
     "metadata": {},
     "output_type": "execute_result"
    }
   ],
   "source": [
    "dataFrame.describe()"
   ]
  },
  {
   "cell_type": "code",
   "execution_count": 93,
   "metadata": {},
   "outputs": [
    {
     "data": {
      "text/plain": [
       "[<matplotlib.lines.Line2D at 0x1d679111cd0>]"
      ]
     },
     "execution_count": 93,
     "metadata": {},
     "output_type": "execute_result"
    },
    {
     "data": {
      "image/png": "[encoded data removed]",
      "text/plain": [
       "<Figure size 432x288 with 1 Axes>"
      ]
     },
     "metadata": {
      "needs_background": "light"
     },
     "output_type": "display_data"
    }
   ],
   "source": [
    "plt.scatter(y_test, tahminDizisi)\n",
    "plt.plot(y_test, y_test, \"g-*\")\n",
    "\n",
    "#Yeşil olan grafik gerçek değerler iken mavi noktalar tahmin değerleridir.\n",
    "#Bura grafikte tahmin değerlerinin(mavi noktalar) gerçek değerlerden(yeşil çizgi) ne kadar sapıldığını göstermektedir.\n",
    "\n",
    "#Fakat normalde regresyonda yeşil çizginin model(tahminler), mavi noktaların gerçek değerler olması gerekir.\n",
    "#Yani normalde regresyonda tam tersidir. Bu KARIŞTIRILMAMALIDIR!!! Fakat sonuç olarak pek fark yoktur."
   ]
  },
  {
   "cell_type": "code",
   "execution_count": 94,
   "metadata": {},
   "outputs": [],
   "source": [
    "#Adım 9:\n",
    "\n",
    "#Modelin iyi çalıştığına kanaat getirildiğinde farklı özellikler verilip model test edilebilir.\n",
    "\n",
    "#Fakat burada kendi verimizden bir satır test edilecektir."
   ]
  },
  {
   "cell_type": "code",
   "execution_count": 95,
   "metadata": {},
   "outputs": [
    {
     "data": {
      "text/plain": [
       "year           2020.0\n",
       "price         65980.0\n",
       "mileage        3999.0\n",
       "tax             145.0\n",
       "mpg              28.0\n",
       "engineSize        4.0\n",
       "Name: 3191, dtype: float64"
      ]
     },
     "execution_count": 95,
     "metadata": {},
     "output_type": "execute_result"
    }
   ],
   "source": [
    "dataFrame.iloc[2]"
   ]
  },
  {
   "cell_type": "code",
   "execution_count": 96,
   "metadata": {},
   "outputs": [],
   "source": [
    "#Bu satırdaki fiyat tahmin edilmeye çalışılsın."
   ]
  },
  {
   "cell_type": "code",
   "execution_count": 97,
   "metadata": {},
   "outputs": [],
   "source": [
    "yeniArabaSeries = dataFrame.drop(\"price\", axis = 1).iloc[2]\n",
    "#2.satırdaki fiyat çıkartılıp onun özellikleri değişkene atandı."
   ]
  },
  {
   "cell_type": "code",
   "execution_count": 98,
   "metadata": {},
   "outputs": [
    {
     "data": {
      "text/plain": [
       "year          2020.0\n",
       "mileage       3999.0\n",
       "tax            145.0\n",
       "mpg             28.0\n",
       "engineSize       4.0\n",
       "Name: 3191, dtype: float64"
      ]
     },
     "execution_count": 98,
     "metadata": {},
     "output_type": "execute_result"
    }
   ],
   "source": [
    "yeniArabaSeries"
   ]
  },
  {
   "cell_type": "code",
   "execution_count": 99,
   "metadata": {},
   "outputs": [],
   "source": [
    "yeniArabaSeries = scaler.transform(yeniArabaSeries.values.reshape(-1,5))\n",
    "\n",
    "#Değişkenimizin boyutları da girilmelidir. Çünkü değişkenimiz 2 boyutludur. (satır-özellik olduğu için)\n",
    "#Eğer yalnız \"yeniArabaSeries = scaler.transform(yeniArabaSeries.values)\" yazılırsa hata verecektir.\n",
    "#O yüzden boyutları girilerek işlem yapılmalıdır.\n",
    "\n",
    "#yeniArabaSeries = scaler.transform(yeniArabaSeries.values.reshape(1,5)) --> bu da aynı işlemi yapmaktadır."
   ]
  },
  {
   "cell_type": "code",
   "execution_count": 100,
   "metadata": {},
   "outputs": [
    {
     "data": {
      "text/plain": [
       "array([[1.        , 0.01543635, 0.25      , 0.12442183, 0.64516129]])"
      ]
     },
     "execution_count": 100,
     "metadata": {},
     "output_type": "execute_result"
    }
   ],
   "source": [
    "yeniArabaSeries"
   ]
  },
  {
   "cell_type": "code",
   "execution_count": 101,
   "metadata": {},
   "outputs": [
    {
     "data": {
      "text/plain": [
       "array([[61515.645]], dtype=float32)"
      ]
     },
     "execution_count": 101,
     "metadata": {},
     "output_type": "execute_result"
    }
   ],
   "source": [
    "model.predict(yeniArabaSeries)"
   ]
  },
  {
   "cell_type": "code",
   "execution_count": 102,
   "metadata": {},
   "outputs": [],
   "source": [
    "#Görüldüğü üzere modele bu özellikler verildiğinde ortalama olarak bu fiyat olabilir sonucunu verdi."
   ]
  },
  {
   "cell_type": "code",
   "execution_count": 103,
   "metadata": {},
   "outputs": [],
   "source": [
    "#Modeli eğitme aşamaları bu şekildedir. Genel olarak bu adımlar yapıldığında model eğitilmiş olur."
   ]
  }
 ],
 "metadata": {
  "kernelspec": {
   "display_name": "Python 3",
   "language": "python",
   "name": "python3"
  },
  "language_info": {
   "codemirror_mode": {
    "name": "ipython",
    "version": 3
   },
   "file_extension": ".py",
   "mimetype": "text/x-python",
   "name": "python",
   "nbconvert_exporter": "python",
   "pygments_lexer": "ipython3",
   "version": "3.8.5"
  }
 },
 "nbformat": 4,
 "nbformat_minor": 4
}
