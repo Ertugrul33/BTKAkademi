{
 "cells": [
  {
   "cell_type": "code",
   "execution_count": 1,
   "metadata": {},
   "outputs": [],
   "source": [
    "import numpy as np #Numeric Python'ın kısaltmasıdır.\n",
    "import matplotlib.pyplot as matplot\n",
    "#Kütüphaneleri import ettik."
   ]
  },
  {
   "cell_type": "code",
   "execution_count": 2,
   "metadata": {},
   "outputs": [],
   "source": [
    "maasListesi = np.random.normal(4000,500,1000)\n",
    "#numpy kütüphanesinden random fonksiyonunu al ve onu normal dağılım olarak,\n",
    "#4000 ortalamalı 500 standart sapmalı 1000 tane veriyi \"maasListesi\"ne aktar demektir."
   ]
  },
  {
   "cell_type": "code",
   "execution_count": 6,
   "metadata": {},
   "outputs": [
    {
     "data": {
      "text/plain": [
       "4000.974544394256"
      ]
     },
     "execution_count": 6,
     "metadata": {},
     "output_type": "execute_result"
    }
   ],
   "source": [
    "np.mean(maasListesi)\n",
    "#\"maasListesi\"nin ortalamasını aldı. (Yaklaşık 4000 ortalamalı sonuç verdi. Bu da normal tabi çünkü veriler rastgele.)"
   ]
  },
  {
   "cell_type": "code",
   "execution_count": 9,
   "metadata": {},
   "outputs": [
    {
     "data": {
      "image/png": "[encoded data removed]",
      "text/plain": [
       "<Figure size 432x288 with 1 Axes>"
      ]
     },
     "metadata": {
      "needs_background": "light"
     },
     "output_type": "display_data"
    }
   ],
   "source": [
    "matplot.hist(maasListesi,50)\n",
    "matplot.show()"
   ]
  },
  {
   "cell_type": "code",
   "execution_count": 8,
   "metadata": {},
   "outputs": [],
   "source": [
    "#Modüller, tek başına Python dosyalarıdır. Paketler ise daha geniş kapsamlısıdır.\n",
    "#Sublime Text: Farklı programlama dillerini yazabildiğimiz bir editördür.\n",
    "#Klasörün paket olduğunu göstermek için klasörümüzün içerisine \"__init__.py\" dosyası oluşturmamız gerekiyor."
   ]
  },
  {
   "cell_type": "code",
   "execution_count": null,
   "metadata": {
    "scrolled": true
   },
   "outputs": [],
   "source": [
    "#Herhangi bir paket içerisinden modül veya modül içerisinden fonksiyon import etmek istersek:\n",
    "\n",
    "\"\"\"\n",
    "from atilmodul import ornekFonksiyon --> (Modülden fonksiyon çağırma)\n",
    "from OnemliProjePackage import anapaketmodul --> (Paket içerisinden modül çağırma)\n",
    "from OnemliProjePackage.SubPackage import altpaketmodul --> (Paket içindeki paketten modül çağırma)\n",
    "\n",
    "\"\"\"\n",
    "#şeklinde kullanabiliriz."
   ]
  },
  {
   "cell_type": "code",
   "execution_count": null,
   "metadata": {},
   "outputs": [],
   "source": [
    "#Modül -> Paket -> Kütüphane"
   ]
  }
 ],
 "metadata": {
  "kernelspec": {
   "display_name": "Python 3",
   "language": "python",
   "name": "python3"
  },
  "language_info": {
   "codemirror_mode": {
    "name": "ipython",
    "version": 3
   },
   "file_extension": ".py",
   "mimetype": "text/x-python",
   "name": "python",
   "nbconvert_exporter": "python",
   "pygments_lexer": "ipython3",
   "version": "3.8.5"
  }
 },
 "nbformat": 4,
 "nbformat_minor": 4
}
