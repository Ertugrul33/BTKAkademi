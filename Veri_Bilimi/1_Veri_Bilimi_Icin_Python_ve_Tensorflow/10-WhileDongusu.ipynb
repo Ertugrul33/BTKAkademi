{
 "cells": [
  {
   "cell_type": "code",
   "execution_count": 10,
   "metadata": {},
   "outputs": [
    {
     "name": "stdout",
     "output_type": "stream",
     "text": [
      "0\n",
      "1\n",
      "2\n",
      "3\n",
      "4\n",
      "5\n",
      "6\n",
      "7\n",
      "8\n",
      "9\n"
     ]
    }
   ],
   "source": [
    "x = 0\n",
    "while x < 10:\n",
    "    print(x)\n",
    "    x = x + 1"
   ]
  },
  {
   "cell_type": "code",
   "execution_count": 8,
   "metadata": {},
   "outputs": [],
   "source": [
    "benimListem = [1,2,3,4,5]"
   ]
  },
  {
   "cell_type": "code",
   "execution_count": 9,
   "metadata": {},
   "outputs": [
    {
     "data": {
      "text/plain": [
       "5"
      ]
     },
     "execution_count": 9,
     "metadata": {},
     "output_type": "execute_result"
    }
   ],
   "source": [
    "benimListem.pop() #Yazılan \"index\"teki elemanı siler."
   ]
  },
  {
   "cell_type": "code",
   "execution_count": 10,
   "metadata": {},
   "outputs": [
    {
     "data": {
      "text/plain": [
       "[1, 2, 3, 4]"
      ]
     },
     "execution_count": 10,
     "metadata": {},
     "output_type": "execute_result"
    }
   ],
   "source": [
    "benimListem"
   ]
  },
  {
   "cell_type": "code",
   "execution_count": 14,
   "metadata": {},
   "outputs": [],
   "source": [
    "benimListem.append(5) #Yazılan \"elemanı\" ekler."
   ]
  },
  {
   "cell_type": "code",
   "execution_count": 15,
   "metadata": {},
   "outputs": [
    {
     "data": {
      "text/plain": [
       "[1, 2, 3, 4, 5]"
      ]
     },
     "execution_count": 15,
     "metadata": {},
     "output_type": "execute_result"
    }
   ],
   "source": [
    "benimListem"
   ]
  },
  {
   "cell_type": "code",
   "execution_count": 16,
   "metadata": {},
   "outputs": [
    {
     "name": "stdout",
     "output_type": "stream",
     "text": [
      "3 hala listenin içerisinde\n",
      "3 hala listenin içerisinde\n",
      "3 hala listenin içerisinde\n"
     ]
    }
   ],
   "source": [
    "while 3 in benimListem: #3 bu listede olduğu sürece döngüyü çalıştır demek.\n",
    "    print(\"3 hala listenin içerisinde\")\n",
    "    benimListem.pop() #Son elemanları silecek ve 3'ü de sildiğinde döngü duracak."
   ]
  },
  {
   "cell_type": "code",
   "execution_count": 18,
   "metadata": {},
   "outputs": [],
   "source": [
    "numara = 0"
   ]
  },
  {
   "cell_type": "code",
   "execution_count": 20,
   "metadata": {},
   "outputs": [
    {
     "name": "stdout",
     "output_type": "stream",
     "text": [
      "0\n",
      "1\n",
      "2\n",
      "3\n"
     ]
    }
   ],
   "source": [
    "while numara < 5:\n",
    "    if numara == 4:\n",
    "        break\n",
    "    print(numara)\n",
    "    numara = numara + 1"
   ]
  },
  {
   "cell_type": "code",
   "execution_count": 11,
   "metadata": {},
   "outputs": [
    {
     "name": "stdout",
     "output_type": "stream",
     "text": [
      "yeniDegisken'in güncel değeri:  0\n",
      "yeniDegisken'in güncel değeri:  1\n",
      "yeniDegisken'in güncel değeri:  2\n",
      "yeniDegisken'in güncel değeri:  3\n",
      "yeniDegisken'in güncel değeri:  4\n",
      "yeniDegisken'in güncel değeri:  5\n",
      "yeniDegisken'in güncel değeri:  6\n",
      "yeniDegisken'in güncel değeri:  7\n",
      "yeniDegisken'in güncel değeri:  8\n",
      "yeniDegisken'in güncel değeri:  9\n",
      "yeniDegisken'in güncel değeri:  10\n",
      "yeniDegisken'in güncel değeri:  11\n",
      "yeniDegisken'in güncel değeri:  12\n",
      "yeniDegisken'in güncel değeri:  13\n",
      "yeniDegisken'in güncel değeri:  14\n"
     ]
    }
   ],
   "source": [
    "yeniDegisken = 0\n",
    "while yeniDegisken < 15:\n",
    "    #print(\"yeniDegisken'in güncel değeri: \" + str(yeniDegisken)) 1. Yöntem\n",
    "    #print(\"yeniDegisken'in güncel değeri: {}\".format(yeniDegisken)) 2. Yöntem\n",
    "    print(f\"yeniDegisken'in güncel değeri: {yeniDegisken}\") # 3. Yöntem\n",
    "    yeniDegisken = yeniDegisken + 1"
   ]
  },
  {
   "cell_type": "code",
   "execution_count": 1,
   "metadata": {},
   "outputs": [],
   "source": [
    "#Programlama yaparken bazı yerlerde bir stringin içinde daha önceden tanımlı string, float, int vs. \n",
    "#değerleri yerleştirmek isteyebiliriz. Böyle durumlar için Pythonda format() fonksiyonu bulunmaktadır. \n",
    "#Örneğin, programımızda 3 tane tamsayı değerimiz var ve biz bunları bir string içinde ekrana basmak istiyoruz. \n",
    "#Bunun için format() fonksiyonunu kullanabiliriz. (2. Yöntem)\n",
    "\n",
    "#Ya da başına f koyup süslü parantez içerisine değişkenin adını koyarak da bu işlemi yapabiliriz. (3. Yöntem)"
   ]
  }
 ],
 "metadata": {
  "kernelspec": {
   "display_name": "Python 3",
   "language": "python",
   "name": "python3"
  },
  "language_info": {
   "codemirror_mode": {
    "name": "ipython",
    "version": 3
   },
   "file_extension": ".py",
   "mimetype": "text/x-python",
   "name": "python",
   "nbconvert_exporter": "python",
   "pygments_lexer": "ipython3",
   "version": "3.7.9"
  }
 },
 "nbformat": 4,
 "nbformat_minor": 4
}
