{
 "cells": [
  {
   "cell_type": "code",
   "execution_count": 1,
   "metadata": {},
   "outputs": [
    {
     "data": {
      "text/plain": [
       "True"
      ]
     },
     "execution_count": 1,
     "metadata": {},
     "output_type": "execute_result"
    }
   ],
   "source": [
    "3 > 1"
   ]
  },
  {
   "cell_type": "code",
   "execution_count": 2,
   "metadata": {},
   "outputs": [
    {
     "name": "stdout",
     "output_type": "stream",
     "text": [
      "atıl samancıoğlu\n"
     ]
    }
   ],
   "source": [
    "if 3 > 1: #Buradaki koşul sağlanırsa bu bloğun içindeki kodu çalıştır.\n",
    "    print(\"atıl samancıoğlu\")"
   ]
  },
  {
   "cell_type": "code",
   "execution_count": 5,
   "metadata": {},
   "outputs": [
    {
     "name": "stdout",
     "output_type": "stream",
     "text": [
      "if koşulunun dışına çıktık.\n"
     ]
    }
   ],
   "source": [
    "if 3 > 4:\n",
    "    print(\"atıl samancıoğlu\")\n",
    "    print(\"if koşulu sağlandı.\")\n",
    "print(\"if koşulunun dışına çıktık.\") #Kodu nasıl çalıştığını anlamamız için bunu yazmak iyi olacaktır."
   ]
  },
  {
   "cell_type": "code",
   "execution_count": 9,
   "metadata": {},
   "outputs": [],
   "source": [
    "x = 5"
   ]
  },
  {
   "cell_type": "code",
   "execution_count": 10,
   "metadata": {},
   "outputs": [],
   "source": [
    "y = 4"
   ]
  },
  {
   "cell_type": "code",
   "execution_count": 13,
   "metadata": {},
   "outputs": [
    {
     "name": "stdout",
     "output_type": "stream",
     "text": [
      "x, y'den daha büyükmüş.\n",
      "9\n"
     ]
    }
   ],
   "source": [
    "if x > y:\n",
    "    print(\"x, y'den daha büyükmüş.\")\n",
    "    a = 5\n",
    "    b = 4\n",
    "    print(a+b)"
   ]
  },
  {
   "cell_type": "code",
   "execution_count": 18,
   "metadata": {},
   "outputs": [],
   "source": [
    "x = 4"
   ]
  },
  {
   "cell_type": "code",
   "execution_count": 15,
   "metadata": {},
   "outputs": [],
   "source": [
    "if x > y:\n",
    "    print(\"x, y'den daha büyükmüş.\")\n",
    "    a = 5\n",
    "    b = 4\n",
    "    print(a+b)"
   ]
  },
  {
   "cell_type": "code",
   "execution_count": 21,
   "metadata": {},
   "outputs": [
    {
     "name": "stdout",
     "output_type": "stream",
     "text": [
      "x ve y birbirine eşitmiş.\n"
     ]
    }
   ],
   "source": [
    "if x > y:\n",
    "    print(\"x, y'den daha büyükmüş.\")\n",
    "elif y > x:\n",
    "    print(\"y, x'den daha büyükmüş.\")\n",
    "else:\n",
    "    print(\"x ve y birbirine eşitmiş.\")"
   ]
  },
  {
   "cell_type": "code",
   "execution_count": 29,
   "metadata": {},
   "outputs": [
    {
     "name": "stdout",
     "output_type": "stream",
     "text": [
      "Süper Kahraman Seçiniz: Aquaman\n"
     ]
    }
   ],
   "source": [
    "benimKahramanim = input(\"Süper Kahraman Seçiniz: \")"
   ]
  },
  {
   "cell_type": "code",
   "execution_count": 30,
   "metadata": {},
   "outputs": [
    {
     "name": "stdout",
     "output_type": "stream",
     "text": [
      "Bu kim gerçekten bilmiyoruz.\n"
     ]
    }
   ],
   "source": [
    "if benimKahramanim == \"Batman\":\n",
    "    print(\"Batman'ı seçtiniz tebrikler!\")\n",
    "elif benimKahramanim == \"Superman\":\n",
    "    print(\"Keşke Batman'ı seçseydiniz.\")\n",
    "elif benimKahramanim == \"Ironman\":\n",
    "    print(\"Ironman kimdir?\")\n",
    "else:\n",
    "    print(\"Bu kim gerçekten bilmiyoruz.\")"
   ]
  },
  {
   "cell_type": "code",
   "execution_count": 34,
   "metadata": {},
   "outputs": [],
   "source": [
    "a = 10\n",
    "b = 20\n",
    "c = 20"
   ]
  },
  {
   "cell_type": "code",
   "execution_count": 36,
   "metadata": {},
   "outputs": [
    {
     "name": "stdout",
     "output_type": "stream",
     "text": [
      "Bu koşullar tutmadı.\n"
     ]
    }
   ],
   "source": [
    "if a > b and b > c:\n",
    "    print(\"a, b'den büyük VE b, c'den büyük.\")\n",
    "elif  a < b and b < c:\n",
    "    print(\"a, b'den küçük VE b, c'den küçük\")\n",
    "else:\n",
    "    print(\"Bu koşullar tutmadı.\")"
   ]
  },
  {
   "cell_type": "code",
   "execution_count": 43,
   "metadata": {},
   "outputs": [],
   "source": [
    "m = 10\n",
    "k = 4\n",
    "l = 5"
   ]
  },
  {
   "cell_type": "code",
   "execution_count": 44,
   "metadata": {},
   "outputs": [
    {
     "name": "stdout",
     "output_type": "stream",
     "text": [
      "Bu çalıştırılacak mı?\n"
     ]
    }
   ],
   "source": [
    "if m > k or k > l:\n",
    "    print(\"Bu çalıştırılacak mı?\")"
   ]
  },
  {
   "cell_type": "code",
   "execution_count": 48,
   "metadata": {},
   "outputs": [],
   "source": [
    "karakterCanli = False"
   ]
  },
  {
   "cell_type": "code",
   "execution_count": 49,
   "metadata": {},
   "outputs": [
    {
     "name": "stdout",
     "output_type": "stream",
     "text": [
      "Oyun karakteriniz yaşamıyor.\n"
     ]
    }
   ],
   "source": [
    "if karakterCanli == True:\n",
    "    print(\"Oyun karakteriniz yaşıyor.\")\n",
    "else:\n",
    "    print(\"Oyun karakteriniz yaşamıyor.\")"
   ]
  },
  {
   "cell_type": "code",
   "execution_count": 50,
   "metadata": {},
   "outputs": [
    {
     "name": "stdout",
     "output_type": "stream",
     "text": [
      "Oyun karakteriniz yaşamıyor.\n"
     ]
    }
   ],
   "source": [
    "if karakterCanli:\n",
    "    print(\"Oyun karakteriniz yaşıyor.\")\n",
    "else:\n",
    "    print(\"Oyun karakteriniz yaşamıyor.\")\n",
    "#Boolean ifadeler bu şekilde kullanılabilir. (Zaten karakter \"True\" olduğu için tekrar \"==\" eşitlemeye gerek yok.)\n",
    "#Bu sadece Boolean yapılarına özgüdür."
   ]
  },
  {
   "cell_type": "code",
   "execution_count": 51,
   "metadata": {},
   "outputs": [
    {
     "name": "stdout",
     "output_type": "stream",
     "text": [
      "Karakter canlı değil.\n"
     ]
    }
   ],
   "source": [
    "if not karakterCanli: #not False ise yani \"True ise\" bloğu çalıştır demektir.\n",
    "    print(\"Karakter canlı değil.\")"
   ]
  },
  {
   "cell_type": "code",
   "execution_count": 52,
   "metadata": {},
   "outputs": [],
   "source": [
    "benimString = \"Atıl Samancıoğlu\""
   ]
  },
  {
   "cell_type": "code",
   "execution_count": 53,
   "metadata": {},
   "outputs": [
    {
     "name": "stdout",
     "output_type": "stream",
     "text": [
      "Eşit değilmiş.\n"
     ]
    }
   ],
   "source": [
    "if benimString == \"atıl samancıoğlu\":\n",
    "    print(\"Eşitmiş.\")\n",
    "else:\n",
    "    print(\"Eşit değilmiş.\")"
   ]
  },
  {
   "cell_type": "code",
   "execution_count": 54,
   "metadata": {},
   "outputs": [],
   "source": [
    "#Büyük-küçük harfe duyarlı olduğu için else bloğu çalıştı."
   ]
  },
  {
   "cell_type": "code",
   "execution_count": 58,
   "metadata": {},
   "outputs": [
    {
     "name": "stdout",
     "output_type": "stream",
     "text": [
      "Varmış.\n"
     ]
    }
   ],
   "source": [
    "if \"Samancıoğlu\" in benimString: #Samancıoğlu, benimString içerisinde varsa demek. (Bu şekilde de if kullanılabilir.)\n",
    "    print(\"Varmış.\")\n",
    "else:\n",
    "    print(\"Yokmuş.\")"
   ]
  },
  {
   "cell_type": "code",
   "execution_count": 59,
   "metadata": {},
   "outputs": [
    {
     "name": "stdout",
     "output_type": "stream",
     "text": [
      "Yokmuş.\n"
     ]
    }
   ],
   "source": [
    "if \"samancıoğlu\" in benimString:\n",
    "    print(\"Varmış.\")\n",
    "else:\n",
    "    print(\"Yokmuş.\")"
   ]
  },
  {
   "cell_type": "code",
   "execution_count": null,
   "metadata": {},
   "outputs": [],
   "source": [
    "#s küçük olduğu için \"Yokmuş\" sonucunu verdi."
   ]
  },
  {
   "cell_type": "code",
   "execution_count": 60,
   "metadata": {},
   "outputs": [
    {
     "name": "stdout",
     "output_type": "stream",
     "text": [
      "Varmış.\n"
     ]
    }
   ],
   "source": [
    "if \"cıoğlu\" in benimString:\n",
    "    print(\"Varmış.\")\n",
    "else:\n",
    "    print(\"Yokmuş.\")"
   ]
  },
  {
   "cell_type": "code",
   "execution_count": 61,
   "metadata": {},
   "outputs": [],
   "source": [
    "#İçerisindeki belli karakterleri yazarak da kontrol edebiliriz."
   ]
  },
  {
   "cell_type": "markdown",
   "metadata": {},
   "source": [
    "### Not: Veri Biliminde \"in\" ile karakter(ler) veya değer(ler) var mı kontrolü çok kullanılır."
   ]
  },
  {
   "cell_type": "code",
   "execution_count": 62,
   "metadata": {},
   "outputs": [],
   "source": [
    "benimListem = [10,20,30,40,50]"
   ]
  },
  {
   "cell_type": "code",
   "execution_count": 63,
   "metadata": {},
   "outputs": [
    {
     "name": "stdout",
     "output_type": "stream",
     "text": [
      "Evet.\n"
     ]
    }
   ],
   "source": [
    "if 10 in benimListem:\n",
    "    print(\"Evet.\")"
   ]
  },
  {
   "cell_type": "code",
   "execution_count": 64,
   "metadata": {},
   "outputs": [],
   "source": [
    "benimSozluk = {\"Muz\" : 100, \"Elma\" : 150, \"Karpuz\" : 500}"
   ]
  },
  {
   "cell_type": "code",
   "execution_count": 70,
   "metadata": {},
   "outputs": [
    {
     "name": "stdout",
     "output_type": "stream",
     "text": [
      "Varmış.\n"
     ]
    }
   ],
   "source": [
    "if \"Muz\" in benimSozluk.keys():\n",
    "    print(\"Varmış.\")"
   ]
  },
  {
   "cell_type": "code",
   "execution_count": 69,
   "metadata": {},
   "outputs": [
    {
     "name": "stdout",
     "output_type": "stream",
     "text": [
      "Evet.\n"
     ]
    }
   ],
   "source": [
    "if 500 in benimSozluk.values():\n",
    "    print(\"Evet.\")"
   ]
  }
 ],
 "metadata": {
  "kernelspec": {
   "display_name": "Python 3",
   "language": "python",
   "name": "python3"
  },
  "language_info": {
   "codemirror_mode": {
    "name": "ipython",
    "version": 3
   },
   "file_extension": ".py",
   "mimetype": "text/x-python",
   "name": "python",
   "nbconvert_exporter": "python",
   "pygments_lexer": "ipython3",
   "version": "3.7.9"
  }
 },
 "nbformat": 4,
 "nbformat_minor": 4
}
