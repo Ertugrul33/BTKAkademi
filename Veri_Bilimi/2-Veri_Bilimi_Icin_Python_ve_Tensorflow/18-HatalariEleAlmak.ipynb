{
 "cells": [
  {
   "cell_type": "code",
   "execution_count": 1,
   "metadata": {},
   "outputs": [],
   "source": [
    "def toplama(numara1, numara2):\n",
    "    return numara1 + numara2"
   ]
  },
  {
   "cell_type": "code",
   "execution_count": 2,
   "metadata": {},
   "outputs": [
    {
     "name": "stdout",
     "output_type": "stream",
     "text": [
      "İlk numarayı giriniz: 10\n",
      "İkinci numarayı giriniz: 20\n"
     ]
    },
    {
     "data": {
      "text/plain": [
       "30"
      ]
     },
     "execution_count": 2,
     "metadata": {},
     "output_type": "execute_result"
    }
   ],
   "source": [
    "x = int(input(\"İlk numarayı giriniz: \"))\n",
    "y = int(input(\"İkinci numarayı giriniz: \"))\n",
    "toplama(x,y)"
   ]
  },
  {
   "cell_type": "code",
   "execution_count": 3,
   "metadata": {},
   "outputs": [],
   "source": [
    "#Bu hataları önlemek için try-except yapısını kullanmamız gerek."
   ]
  },
  {
   "cell_type": "markdown",
   "metadata": {},
   "source": [
    "## try & except & else & finally"
   ]
  },
  {
   "cell_type": "code",
   "execution_count": 5,
   "metadata": {},
   "outputs": [
    {
     "name": "stdout",
     "output_type": "stream",
     "text": [
      "Numaranızı giriniz: 10\n",
      "Teşekkürler.\n",
      "Finally çağırıldı.\n"
     ]
    }
   ],
   "source": [
    "while True:\n",
    "    try:\n",
    "        benimInt = int(input(\"Numaranızı giriniz: \"))\n",
    "    except: #try bloğunda hata varsa(yani çalışmazsa) burayı çalıştır demek.\n",
    "        print(\"Lütfen gerçekten numara giriniz.\")\n",
    "        continue\n",
    "    else: #try bloğunda hata yoksa(yani çalışırsa) burayı çalıştır demek ve dilersek break komutu ile döngüden çıkabiliriz.\n",
    "        print(\"Teşekkürler.\")\n",
    "        break\n",
    "    finally: #Bu bloğun altında herhangi bir koşul olmadan yazılan her şey çağırılacaktır.\n",
    "        print(\"Finally çağırıldı.\")"
   ]
  },
  {
   "cell_type": "code",
   "execution_count": null,
   "metadata": {},
   "outputs": [],
   "source": []
  }
 ],
 "metadata": {
  "kernelspec": {
   "display_name": "Python 3",
   "language": "python",
   "name": "python3"
  },
  "language_info": {
   "codemirror_mode": {
    "name": "ipython",
    "version": 3
   },
   "file_extension": ".py",
   "mimetype": "text/x-python",
   "name": "python",
   "nbconvert_exporter": "python",
   "pygments_lexer": "ipython3",
   "version": "3.8.5"
  }
 },
 "nbformat": 4,
 "nbformat_minor": 4
}
